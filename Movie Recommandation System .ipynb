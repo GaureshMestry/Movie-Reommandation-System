{
 "cells": [
  {
   "cell_type": "code",
   "execution_count": 1,
   "id": "f74e48a5-4b8c-4002-a5b8-4f41115a193d",
   "metadata": {},
   "outputs": [],
   "source": [
    "import numpy as np\n",
    "import pandas as pd\n",
    "import difflib\n",
    "from sklearn.feature_extraction.text import TfidfVectorizer\n",
    "from sklearn.metrics.pairwise import cosine_similarity\n",
    "import os"
   ]
  },
  {
   "cell_type": "code",
   "execution_count": 2,
   "id": "1cd4860e-dfc5-419d-b81b-d3100c2e557f",
   "metadata": {},
   "outputs": [],
   "source": [
    "os.chdir('C:\\\\Users\\\\Lenovo\\\\Documents\\\\Movie Recomandation system\\\\')"
   ]
  },
  {
   "cell_type": "code",
   "execution_count": 3,
   "id": "d125e388-246c-45dc-a67a-39f366f92af7",
   "metadata": {},
   "outputs": [],
   "source": [
    "movies_data=pd.read_csv('movies.csv')"
   ]
  },
  {
   "cell_type": "code",
   "execution_count": 4,
   "id": "f8a9fe96-16cd-4680-91c8-f30129839065",
   "metadata": {},
   "outputs": [],
   "source": [
    "# movies_data=movies_data(movies_data[0]==movies_data['index'])"
   ]
  },
  {
   "cell_type": "code",
   "execution_count": 5,
   "id": "1c8cb828-5934-4a9d-850f-54b66a1c0c05",
   "metadata": {},
   "outputs": [
    {
     "data": {
      "text/plain": [
       "(4803, 24)"
      ]
     },
     "metadata": {},
     "output_type": "display_data"
    }
   ],
   "source": [
    "display (movies_data.shape)\n"
   ]
  },
  {
   "cell_type": "code",
   "execution_count": 6,
   "id": "193230a1-6c7c-4ea7-b492-56eb54aff482",
   "metadata": {},
   "outputs": [
    {
     "name": "stdout",
     "output_type": "stream",
     "text": [
      "['genres', 'keywords', 'tagline', 'cast', 'director']\n"
     ]
    }
   ],
   "source": [
    "#Selecting the relevant features for recommendation\n",
    "selected_features = ['genres','keywords','tagline','cast','director']\n",
    "# print(selected_features)\n",
    "print(selected_features)\n"
   ]
  },
  {
   "cell_type": "code",
   "execution_count": 7,
   "id": "d84f03d3-a8db-4cf1-8e1a-7d25ecd5d327",
   "metadata": {},
   "outputs": [
    {
     "name": "stdout",
     "output_type": "stream",
     "text": [
      "<class 'pandas.core.frame.DataFrame'>\n",
      "RangeIndex: 4803 entries, 0 to 4802\n",
      "Data columns (total 24 columns):\n",
      " #   Column                Non-Null Count  Dtype  \n",
      "---  ------                --------------  -----  \n",
      " 0   index                 4803 non-null   int64  \n",
      " 1   budget                4803 non-null   int64  \n",
      " 2   genres                4775 non-null   object \n",
      " 3   homepage              1712 non-null   object \n",
      " 4   id                    4803 non-null   int64  \n",
      " 5   keywords              4391 non-null   object \n",
      " 6   original_language     4803 non-null   object \n",
      " 7   original_title        4803 non-null   object \n",
      " 8   overview              4800 non-null   object \n",
      " 9   popularity            4803 non-null   float64\n",
      " 10  production_companies  4803 non-null   object \n",
      " 11  production_countries  4803 non-null   object \n",
      " 12  release_date          4802 non-null   object \n",
      " 13  revenue               4803 non-null   int64  \n",
      " 14  runtime               4801 non-null   float64\n",
      " 15  spoken_languages      4803 non-null   object \n",
      " 16  status                4803 non-null   object \n",
      " 17  tagline               3959 non-null   object \n",
      " 18  title                 4803 non-null   object \n",
      " 19  vote_average          4803 non-null   float64\n",
      " 20  vote_count            4803 non-null   int64  \n",
      " 21  cast                  4760 non-null   object \n",
      " 22  crew                  4803 non-null   object \n",
      " 23  director              4773 non-null   object \n",
      "dtypes: float64(3), int64(5), object(16)\n",
      "memory usage: 900.7+ KB\n"
     ]
    },
    {
     "data": {
      "text/plain": [
       "None"
      ]
     },
     "metadata": {},
     "output_type": "display_data"
    }
   ],
   "source": [
    "# Display the info \n",
    "display (movies_data.info())\n"
   ]
  },
  {
   "cell_type": "code",
   "execution_count": 8,
   "id": "f752f1b9-4293-4697-aec0-5d59435b8500",
   "metadata": {},
   "outputs": [
    {
     "data": {
      "text/plain": [
       "index                      0\n",
       "budget                     0\n",
       "genres                    28\n",
       "homepage                3091\n",
       "id                         0\n",
       "keywords                 412\n",
       "original_language          0\n",
       "original_title             0\n",
       "overview                   3\n",
       "popularity                 0\n",
       "production_companies       0\n",
       "production_countries       0\n",
       "release_date               1\n",
       "revenue                    0\n",
       "runtime                    2\n",
       "spoken_languages           0\n",
       "status                     0\n",
       "tagline                  844\n",
       "title                      0\n",
       "vote_average               0\n",
       "vote_count                 0\n",
       "cast                      43\n",
       "crew                       0\n",
       "director                  30\n",
       "dtype: int64"
      ]
     },
     "metadata": {},
     "output_type": "display_data"
    }
   ],
   "source": [
    "# Check for Null Values \n",
    "display (movies_data.isna().sum())\n"
   ]
  },
  {
   "cell_type": "code",
   "execution_count": 9,
   "id": "87f77b80-d73a-4038-8924-2a2164905cc8",
   "metadata": {},
   "outputs": [
    {
     "data": {
      "text/html": [
       "<div>\n",
       "<style scoped>\n",
       "    .dataframe tbody tr th:only-of-type {\n",
       "        vertical-align: middle;\n",
       "    }\n",
       "\n",
       "    .dataframe tbody tr th {\n",
       "        vertical-align: top;\n",
       "    }\n",
       "\n",
       "    .dataframe thead th {\n",
       "        text-align: right;\n",
       "    }\n",
       "</style>\n",
       "<table border=\"1\" class=\"dataframe\">\n",
       "  <thead>\n",
       "    <tr style=\"text-align: right;\">\n",
       "      <th></th>\n",
       "      <th>genres</th>\n",
       "      <th>keywords</th>\n",
       "      <th>tagline</th>\n",
       "      <th>cast</th>\n",
       "      <th>director</th>\n",
       "    </tr>\n",
       "  </thead>\n",
       "  <tbody>\n",
       "    <tr>\n",
       "      <th>0</th>\n",
       "      <td>Action Adventure Fantasy Science Fiction</td>\n",
       "      <td>culture clash future space war space colony so...</td>\n",
       "      <td>Enter the World of Pandora.</td>\n",
       "      <td>Sam Worthington Zoe Saldana Sigourney Weaver S...</td>\n",
       "      <td>James Cameron</td>\n",
       "    </tr>\n",
       "    <tr>\n",
       "      <th>1</th>\n",
       "      <td>Adventure Fantasy Action</td>\n",
       "      <td>ocean drug abuse exotic island east india trad...</td>\n",
       "      <td>At the end of the world, the adventure begins.</td>\n",
       "      <td>Johnny Depp Orlando Bloom Keira Knightley Stel...</td>\n",
       "      <td>Gore Verbinski</td>\n",
       "    </tr>\n",
       "    <tr>\n",
       "      <th>2</th>\n",
       "      <td>Action Adventure Crime</td>\n",
       "      <td>spy based on novel secret agent sequel mi6</td>\n",
       "      <td>A Plan No One Escapes</td>\n",
       "      <td>Daniel Craig Christoph Waltz L\\u00e9a Seydoux ...</td>\n",
       "      <td>Sam Mendes</td>\n",
       "    </tr>\n",
       "    <tr>\n",
       "      <th>3</th>\n",
       "      <td>Action Crime Drama Thriller</td>\n",
       "      <td>dc comics crime fighter terrorist secret ident...</td>\n",
       "      <td>The Legend Ends</td>\n",
       "      <td>Christian Bale Michael Caine Gary Oldman Anne ...</td>\n",
       "      <td>Christopher Nolan</td>\n",
       "    </tr>\n",
       "    <tr>\n",
       "      <th>4</th>\n",
       "      <td>Action Adventure Science Fiction</td>\n",
       "      <td>based on novel mars medallion space travel pri...</td>\n",
       "      <td>Lost in our world, found in another.</td>\n",
       "      <td>Taylor Kitsch Lynn Collins Samantha Morton Wil...</td>\n",
       "      <td>Andrew Stanton</td>\n",
       "    </tr>\n",
       "  </tbody>\n",
       "</table>\n",
       "</div>"
      ],
      "text/plain": [
       "                                     genres  \\\n",
       "0  Action Adventure Fantasy Science Fiction   \n",
       "1                  Adventure Fantasy Action   \n",
       "2                    Action Adventure Crime   \n",
       "3               Action Crime Drama Thriller   \n",
       "4          Action Adventure Science Fiction   \n",
       "\n",
       "                                            keywords  \\\n",
       "0  culture clash future space war space colony so...   \n",
       "1  ocean drug abuse exotic island east india trad...   \n",
       "2         spy based on novel secret agent sequel mi6   \n",
       "3  dc comics crime fighter terrorist secret ident...   \n",
       "4  based on novel mars medallion space travel pri...   \n",
       "\n",
       "                                          tagline  \\\n",
       "0                     Enter the World of Pandora.   \n",
       "1  At the end of the world, the adventure begins.   \n",
       "2                           A Plan No One Escapes   \n",
       "3                                 The Legend Ends   \n",
       "4            Lost in our world, found in another.   \n",
       "\n",
       "                                                cast           director  \n",
       "0  Sam Worthington Zoe Saldana Sigourney Weaver S...      James Cameron  \n",
       "1  Johnny Depp Orlando Bloom Keira Knightley Stel...     Gore Verbinski  \n",
       "2  Daniel Craig Christoph Waltz L\\u00e9a Seydoux ...         Sam Mendes  \n",
       "3  Christian Bale Michael Caine Gary Oldman Anne ...  Christopher Nolan  \n",
       "4  Taylor Kitsch Lynn Collins Samantha Morton Wil...     Andrew Stanton  "
      ]
     },
     "metadata": {},
     "output_type": "display_data"
    }
   ],
   "source": [
    "# Display the selected columns \n",
    "display (movies_data[selected_features].head())"
   ]
  },
  {
   "cell_type": "code",
   "execution_count": 10,
   "id": "2cb896da-09bd-4fb1-ac26-9434c11a6d28",
   "metadata": {},
   "outputs": [
    {
     "data": {
      "text/plain": [
       "genres       28\n",
       "keywords    412\n",
       "tagline     844\n",
       "cast         43\n",
       "director     30\n",
       "dtype: int64"
      ]
     },
     "metadata": {},
     "output_type": "display_data"
    }
   ],
   "source": [
    "# Check Null Values in selected columns \n",
    "display (movies_data[selected_features].isna().sum())\n"
   ]
  },
  {
   "cell_type": "code",
   "execution_count": 11,
   "id": "005f0e73-4b95-48b7-b3e7-5e3224a17301",
   "metadata": {},
   "outputs": [],
   "source": [
    "# Replacing the null values with null strin\n",
    "\n",
    "for feature in selected_features:\n",
    "  movies_data[feature] = movies_data[feature].fillna('')\n",
    "# display (movies_data.head())\n"
   ]
  },
  {
   "cell_type": "code",
   "execution_count": 19,
   "id": "cbbd05ee-a807-4634-b163-0dcec82e40c8",
   "metadata": {},
   "outputs": [
    {
     "data": {
      "text/plain": [
       "0       Action Adventure Fantasy Science Fiction cultu...\n",
       "1       Adventure Fantasy Action ocean drug abuse exot...\n",
       "2       Action Adventure Crime spy based on novel secr...\n",
       "3       Action Crime Drama Thriller dc comics crime fi...\n",
       "4       Action Adventure Science Fiction based on nove...\n",
       "                              ...                        \n",
       "4798    Action Crime Thriller united states\\u2013mexic...\n",
       "4799    Comedy Romance  A newlywed couple's honeymoon ...\n",
       "4800    Comedy Drama Romance TV Movie date love at fir...\n",
       "4801      A New Yorker in Shanghai Daniel Henney Eliza...\n",
       "4802    Documentary obsession camcorder crush dream gi...\n",
       "Length: 4803, dtype: object"
      ]
     },
     "metadata": {},
     "output_type": "display_data"
    }
   ],
   "source": [
    "# Combining all the 5 selected features\n",
    "selected_features = ['genres','keywords','tagline','cast','director']\n",
    "\n",
    "combined_features = movies_data['genres']+' '+movies_data['keywords']+' '+movies_data['tagline']+' '+movies_data['cast']+' '+movies_data['director']\n",
    "display (combined_features)\n"
   ]
  },
  {
   "cell_type": "code",
   "execution_count": 21,
   "id": "abcffbf3-b2e7-4cce-9261-affa0a00dd95",
   "metadata": {},
   "outputs": [
    {
     "data": {
      "text/plain": [
       "(4803, 17318)"
      ]
     },
     "metadata": {},
     "output_type": "display_data"
    },
    {
     "name": "stdout",
     "output_type": "stream",
     "text": [
      "  (0, 2432)\t0.17272411194153\n",
      "  (0, 7755)\t0.1128035714854756\n",
      "  (0, 13024)\t0.1942362060108871\n",
      "  (0, 10229)\t0.16058685400095302\n",
      "  (0, 8756)\t0.22709015857011816\n",
      "  (0, 14608)\t0.15150672398763912\n",
      "  (0, 16668)\t0.19843263965100372\n",
      "  (0, 14064)\t0.20596090415084142\n",
      "  (0, 13319)\t0.2177470539412484\n",
      "  (0, 17290)\t0.20197912553916567\n",
      "  (0, 17007)\t0.23643326319898797\n",
      "  (0, 13349)\t0.15021264094167086\n",
      "  (0, 11503)\t0.27211310056983656\n",
      "  (0, 11192)\t0.09049319826481456\n",
      "  (0, 16998)\t0.1282126322850579\n",
      "  (0, 15261)\t0.07095833561276566\n",
      "  (0, 4945)\t0.24025852494110758\n",
      "  (0, 14271)\t0.21392179219912877\n",
      "  (0, 3225)\t0.24960162956997736\n",
      "  (0, 16587)\t0.12549432354918996\n",
      "  (0, 14378)\t0.33962752210959823\n",
      "  (0, 5836)\t0.1646750903586285\n",
      "  (0, 3065)\t0.22208377802661425\n",
      "  (0, 3678)\t0.21392179219912877\n",
      "  (0, 5437)\t0.1036413987316636\n",
      "  :\t:\n",
      "  (4801, 17266)\t0.2886098184932947\n",
      "  (4801, 4835)\t0.24713765026963996\n",
      "  (4801, 403)\t0.17727585190343226\n",
      "  (4801, 6935)\t0.2886098184932947\n",
      "  (4801, 11663)\t0.21557500762727902\n",
      "  (4801, 1672)\t0.1564793427630879\n",
      "  (4801, 10929)\t0.13504166990041588\n",
      "  (4801, 7474)\t0.11307961713172225\n",
      "  (4801, 3796)\t0.3342808988877418\n",
      "  (4802, 6996)\t0.5700048226105303\n",
      "  (4802, 5367)\t0.22969114490410403\n",
      "  (4802, 3654)\t0.262512960498006\n",
      "  (4802, 2425)\t0.24002350969074696\n",
      "  (4802, 4608)\t0.24002350969074696\n",
      "  (4802, 6417)\t0.21753405888348784\n",
      "  (4802, 4371)\t0.1538239182675544\n",
      "  (4802, 12989)\t0.1696476532191718\n",
      "  (4802, 1316)\t0.1960747079005741\n",
      "  (4802, 4528)\t0.19504460807622875\n",
      "  (4802, 3436)\t0.21753405888348784\n",
      "  (4802, 6155)\t0.18056463596934083\n",
      "  (4802, 4980)\t0.16078053641367315\n",
      "  (4802, 2129)\t0.3099656128577656\n",
      "  (4802, 4518)\t0.16784466610624255\n",
      "  (4802, 11161)\t0.17867407682173203\n"
     ]
    }
   ],
   "source": [
    "# Converting the text data to feature vectors\n",
    "# This is to find cosine similarity \n",
    "# Vector shape is (4803, 17318). This is based on the number of distinct words. All the words will be converted to their equivalent numbers.\n",
    "# display (movies_data[selected_features].isna().sum())\n",
    "\n",
    "vectorizer = TfidfVectorizer()\n",
    "feature_vectors = vectorizer.fit_transform(combined_features)\n",
    "display (feature_vectors.shape)\n",
    "print (feature_vectors)\n"
   ]
  },
  {
   "cell_type": "code",
   "execution_count": 23,
   "id": "487afc54-e40d-4229-8a8b-509cf169beda",
   "metadata": {},
   "outputs": [
    {
     "data": {
      "text/html": [
       "<div>\n",
       "<style scoped>\n",
       "    .dataframe tbody tr th:only-of-type {\n",
       "        vertical-align: middle;\n",
       "    }\n",
       "\n",
       "    .dataframe tbody tr th {\n",
       "        vertical-align: top;\n",
       "    }\n",
       "\n",
       "    .dataframe thead th {\n",
       "        text-align: right;\n",
       "    }\n",
       "</style>\n",
       "<table border=\"1\" class=\"dataframe\">\n",
       "  <thead>\n",
       "    <tr style=\"text-align: right;\">\n",
       "      <th></th>\n",
       "      <th>0</th>\n",
       "      <th>1</th>\n",
       "      <th>2</th>\n",
       "      <th>3</th>\n",
       "      <th>4</th>\n",
       "      <th>5</th>\n",
       "      <th>6</th>\n",
       "      <th>7</th>\n",
       "      <th>8</th>\n",
       "      <th>9</th>\n",
       "      <th>...</th>\n",
       "      <th>17308</th>\n",
       "      <th>17309</th>\n",
       "      <th>17310</th>\n",
       "      <th>17311</th>\n",
       "      <th>17312</th>\n",
       "      <th>17313</th>\n",
       "      <th>17314</th>\n",
       "      <th>17315</th>\n",
       "      <th>17316</th>\n",
       "      <th>17317</th>\n",
       "    </tr>\n",
       "  </thead>\n",
       "  <tbody>\n",
       "    <tr>\n",
       "      <th>0</th>\n",
       "      <td>0.0</td>\n",
       "      <td>0.0</td>\n",
       "      <td>0.0</td>\n",
       "      <td>0.0</td>\n",
       "      <td>0.0</td>\n",
       "      <td>0.0</td>\n",
       "      <td>0.0</td>\n",
       "      <td>0.0</td>\n",
       "      <td>0.0</td>\n",
       "      <td>0.0</td>\n",
       "      <td>...</td>\n",
       "      <td>0.0</td>\n",
       "      <td>0.0</td>\n",
       "      <td>0.0</td>\n",
       "      <td>0.0</td>\n",
       "      <td>0.0</td>\n",
       "      <td>0.0</td>\n",
       "      <td>0.0</td>\n",
       "      <td>0.0</td>\n",
       "      <td>0.0</td>\n",
       "      <td>0.0</td>\n",
       "    </tr>\n",
       "    <tr>\n",
       "      <th>1</th>\n",
       "      <td>0.0</td>\n",
       "      <td>0.0</td>\n",
       "      <td>0.0</td>\n",
       "      <td>0.0</td>\n",
       "      <td>0.0</td>\n",
       "      <td>0.0</td>\n",
       "      <td>0.0</td>\n",
       "      <td>0.0</td>\n",
       "      <td>0.0</td>\n",
       "      <td>0.0</td>\n",
       "      <td>...</td>\n",
       "      <td>0.0</td>\n",
       "      <td>0.0</td>\n",
       "      <td>0.0</td>\n",
       "      <td>0.0</td>\n",
       "      <td>0.0</td>\n",
       "      <td>0.0</td>\n",
       "      <td>0.0</td>\n",
       "      <td>0.0</td>\n",
       "      <td>0.0</td>\n",
       "      <td>0.0</td>\n",
       "    </tr>\n",
       "    <tr>\n",
       "      <th>2</th>\n",
       "      <td>0.0</td>\n",
       "      <td>0.0</td>\n",
       "      <td>0.0</td>\n",
       "      <td>0.0</td>\n",
       "      <td>0.0</td>\n",
       "      <td>0.0</td>\n",
       "      <td>0.0</td>\n",
       "      <td>0.0</td>\n",
       "      <td>0.0</td>\n",
       "      <td>0.0</td>\n",
       "      <td>...</td>\n",
       "      <td>0.0</td>\n",
       "      <td>0.0</td>\n",
       "      <td>0.0</td>\n",
       "      <td>0.0</td>\n",
       "      <td>0.0</td>\n",
       "      <td>0.0</td>\n",
       "      <td>0.0</td>\n",
       "      <td>0.0</td>\n",
       "      <td>0.0</td>\n",
       "      <td>0.0</td>\n",
       "    </tr>\n",
       "    <tr>\n",
       "      <th>3</th>\n",
       "      <td>0.0</td>\n",
       "      <td>0.0</td>\n",
       "      <td>0.0</td>\n",
       "      <td>0.0</td>\n",
       "      <td>0.0</td>\n",
       "      <td>0.0</td>\n",
       "      <td>0.0</td>\n",
       "      <td>0.0</td>\n",
       "      <td>0.0</td>\n",
       "      <td>0.0</td>\n",
       "      <td>...</td>\n",
       "      <td>0.0</td>\n",
       "      <td>0.0</td>\n",
       "      <td>0.0</td>\n",
       "      <td>0.0</td>\n",
       "      <td>0.0</td>\n",
       "      <td>0.0</td>\n",
       "      <td>0.0</td>\n",
       "      <td>0.0</td>\n",
       "      <td>0.0</td>\n",
       "      <td>0.0</td>\n",
       "    </tr>\n",
       "    <tr>\n",
       "      <th>4</th>\n",
       "      <td>0.0</td>\n",
       "      <td>0.0</td>\n",
       "      <td>0.0</td>\n",
       "      <td>0.0</td>\n",
       "      <td>0.0</td>\n",
       "      <td>0.0</td>\n",
       "      <td>0.0</td>\n",
       "      <td>0.0</td>\n",
       "      <td>0.0</td>\n",
       "      <td>0.0</td>\n",
       "      <td>...</td>\n",
       "      <td>0.0</td>\n",
       "      <td>0.0</td>\n",
       "      <td>0.0</td>\n",
       "      <td>0.0</td>\n",
       "      <td>0.0</td>\n",
       "      <td>0.0</td>\n",
       "      <td>0.0</td>\n",
       "      <td>0.0</td>\n",
       "      <td>0.0</td>\n",
       "      <td>0.0</td>\n",
       "    </tr>\n",
       "    <tr>\n",
       "      <th>...</th>\n",
       "      <td>...</td>\n",
       "      <td>...</td>\n",
       "      <td>...</td>\n",
       "      <td>...</td>\n",
       "      <td>...</td>\n",
       "      <td>...</td>\n",
       "      <td>...</td>\n",
       "      <td>...</td>\n",
       "      <td>...</td>\n",
       "      <td>...</td>\n",
       "      <td>...</td>\n",
       "      <td>...</td>\n",
       "      <td>...</td>\n",
       "      <td>...</td>\n",
       "      <td>...</td>\n",
       "      <td>...</td>\n",
       "      <td>...</td>\n",
       "      <td>...</td>\n",
       "      <td>...</td>\n",
       "      <td>...</td>\n",
       "      <td>...</td>\n",
       "    </tr>\n",
       "    <tr>\n",
       "      <th>4798</th>\n",
       "      <td>0.0</td>\n",
       "      <td>0.0</td>\n",
       "      <td>0.0</td>\n",
       "      <td>0.0</td>\n",
       "      <td>0.0</td>\n",
       "      <td>0.0</td>\n",
       "      <td>0.0</td>\n",
       "      <td>0.0</td>\n",
       "      <td>0.0</td>\n",
       "      <td>0.0</td>\n",
       "      <td>...</td>\n",
       "      <td>0.0</td>\n",
       "      <td>0.0</td>\n",
       "      <td>0.0</td>\n",
       "      <td>0.0</td>\n",
       "      <td>0.0</td>\n",
       "      <td>0.0</td>\n",
       "      <td>0.0</td>\n",
       "      <td>0.0</td>\n",
       "      <td>0.0</td>\n",
       "      <td>0.0</td>\n",
       "    </tr>\n",
       "    <tr>\n",
       "      <th>4799</th>\n",
       "      <td>0.0</td>\n",
       "      <td>0.0</td>\n",
       "      <td>0.0</td>\n",
       "      <td>0.0</td>\n",
       "      <td>0.0</td>\n",
       "      <td>0.0</td>\n",
       "      <td>0.0</td>\n",
       "      <td>0.0</td>\n",
       "      <td>0.0</td>\n",
       "      <td>0.0</td>\n",
       "      <td>...</td>\n",
       "      <td>0.0</td>\n",
       "      <td>0.0</td>\n",
       "      <td>0.0</td>\n",
       "      <td>0.0</td>\n",
       "      <td>0.0</td>\n",
       "      <td>0.0</td>\n",
       "      <td>0.0</td>\n",
       "      <td>0.0</td>\n",
       "      <td>0.0</td>\n",
       "      <td>0.0</td>\n",
       "    </tr>\n",
       "    <tr>\n",
       "      <th>4800</th>\n",
       "      <td>0.0</td>\n",
       "      <td>0.0</td>\n",
       "      <td>0.0</td>\n",
       "      <td>0.0</td>\n",
       "      <td>0.0</td>\n",
       "      <td>0.0</td>\n",
       "      <td>0.0</td>\n",
       "      <td>0.0</td>\n",
       "      <td>0.0</td>\n",
       "      <td>0.0</td>\n",
       "      <td>...</td>\n",
       "      <td>0.0</td>\n",
       "      <td>0.0</td>\n",
       "      <td>0.0</td>\n",
       "      <td>0.0</td>\n",
       "      <td>0.0</td>\n",
       "      <td>0.0</td>\n",
       "      <td>0.0</td>\n",
       "      <td>0.0</td>\n",
       "      <td>0.0</td>\n",
       "      <td>0.0</td>\n",
       "    </tr>\n",
       "    <tr>\n",
       "      <th>4801</th>\n",
       "      <td>0.0</td>\n",
       "      <td>0.0</td>\n",
       "      <td>0.0</td>\n",
       "      <td>0.0</td>\n",
       "      <td>0.0</td>\n",
       "      <td>0.0</td>\n",
       "      <td>0.0</td>\n",
       "      <td>0.0</td>\n",
       "      <td>0.0</td>\n",
       "      <td>0.0</td>\n",
       "      <td>...</td>\n",
       "      <td>0.0</td>\n",
       "      <td>0.0</td>\n",
       "      <td>0.0</td>\n",
       "      <td>0.0</td>\n",
       "      <td>0.0</td>\n",
       "      <td>0.0</td>\n",
       "      <td>0.0</td>\n",
       "      <td>0.0</td>\n",
       "      <td>0.0</td>\n",
       "      <td>0.0</td>\n",
       "    </tr>\n",
       "    <tr>\n",
       "      <th>4802</th>\n",
       "      <td>0.0</td>\n",
       "      <td>0.0</td>\n",
       "      <td>0.0</td>\n",
       "      <td>0.0</td>\n",
       "      <td>0.0</td>\n",
       "      <td>0.0</td>\n",
       "      <td>0.0</td>\n",
       "      <td>0.0</td>\n",
       "      <td>0.0</td>\n",
       "      <td>0.0</td>\n",
       "      <td>...</td>\n",
       "      <td>0.0</td>\n",
       "      <td>0.0</td>\n",
       "      <td>0.0</td>\n",
       "      <td>0.0</td>\n",
       "      <td>0.0</td>\n",
       "      <td>0.0</td>\n",
       "      <td>0.0</td>\n",
       "      <td>0.0</td>\n",
       "      <td>0.0</td>\n",
       "      <td>0.0</td>\n",
       "    </tr>\n",
       "  </tbody>\n",
       "</table>\n",
       "<p>4803 rows × 17318 columns</p>\n",
       "</div>"
      ],
      "text/plain": [
       "      0      1      2      3      4      5      6      7      8      9      \\\n",
       "0       0.0    0.0    0.0    0.0    0.0    0.0    0.0    0.0    0.0    0.0   \n",
       "1       0.0    0.0    0.0    0.0    0.0    0.0    0.0    0.0    0.0    0.0   \n",
       "2       0.0    0.0    0.0    0.0    0.0    0.0    0.0    0.0    0.0    0.0   \n",
       "3       0.0    0.0    0.0    0.0    0.0    0.0    0.0    0.0    0.0    0.0   \n",
       "4       0.0    0.0    0.0    0.0    0.0    0.0    0.0    0.0    0.0    0.0   \n",
       "...     ...    ...    ...    ...    ...    ...    ...    ...    ...    ...   \n",
       "4798    0.0    0.0    0.0    0.0    0.0    0.0    0.0    0.0    0.0    0.0   \n",
       "4799    0.0    0.0    0.0    0.0    0.0    0.0    0.0    0.0    0.0    0.0   \n",
       "4800    0.0    0.0    0.0    0.0    0.0    0.0    0.0    0.0    0.0    0.0   \n",
       "4801    0.0    0.0    0.0    0.0    0.0    0.0    0.0    0.0    0.0    0.0   \n",
       "4802    0.0    0.0    0.0    0.0    0.0    0.0    0.0    0.0    0.0    0.0   \n",
       "\n",
       "      ...  17308  17309  17310  17311  17312  17313  17314  17315  17316  \\\n",
       "0     ...    0.0    0.0    0.0    0.0    0.0    0.0    0.0    0.0    0.0   \n",
       "1     ...    0.0    0.0    0.0    0.0    0.0    0.0    0.0    0.0    0.0   \n",
       "2     ...    0.0    0.0    0.0    0.0    0.0    0.0    0.0    0.0    0.0   \n",
       "3     ...    0.0    0.0    0.0    0.0    0.0    0.0    0.0    0.0    0.0   \n",
       "4     ...    0.0    0.0    0.0    0.0    0.0    0.0    0.0    0.0    0.0   \n",
       "...   ...    ...    ...    ...    ...    ...    ...    ...    ...    ...   \n",
       "4798  ...    0.0    0.0    0.0    0.0    0.0    0.0    0.0    0.0    0.0   \n",
       "4799  ...    0.0    0.0    0.0    0.0    0.0    0.0    0.0    0.0    0.0   \n",
       "4800  ...    0.0    0.0    0.0    0.0    0.0    0.0    0.0    0.0    0.0   \n",
       "4801  ...    0.0    0.0    0.0    0.0    0.0    0.0    0.0    0.0    0.0   \n",
       "4802  ...    0.0    0.0    0.0    0.0    0.0    0.0    0.0    0.0    0.0   \n",
       "\n",
       "      17317  \n",
       "0       0.0  \n",
       "1       0.0  \n",
       "2       0.0  \n",
       "3       0.0  \n",
       "4       0.0  \n",
       "...     ...  \n",
       "4798    0.0  \n",
       "4799    0.0  \n",
       "4800    0.0  \n",
       "4801    0.0  \n",
       "4802    0.0  \n",
       "\n",
       "[4803 rows x 17318 columns]"
      ]
     },
     "execution_count": 23,
     "metadata": {},
     "output_type": "execute_result"
    }
   ],
   "source": [
    "# Getting the similarity scores using cosine similarity\n",
    "pd.DataFrame(feature_vectors.toarray())\n",
    "\n"
   ]
  },
  {
   "cell_type": "code",
   "execution_count": 24,
   "id": "d36b5585-ec43-4b14-95d2-8df6a288ddf8",
   "metadata": {},
   "outputs": [
    {
     "name": "stdout",
     "output_type": "stream",
     "text": [
      "[[1.         0.07219487 0.037733   ... 0.         0.         0.        ]\n",
      " [0.07219487 1.         0.03281499 ... 0.03575545 0.         0.        ]\n",
      " [0.037733   0.03281499 1.         ... 0.         0.05389661 0.        ]\n",
      " ...\n",
      " [0.         0.03575545 0.         ... 1.         0.         0.02651502]\n",
      " [0.         0.         0.05389661 ... 0.         1.         0.        ]\n",
      " [0.         0.         0.         ... 0.02651502 0.         1.        ]]\n"
     ]
    },
    {
     "data": {
      "text/plain": [
       "(4803, 4803)"
      ]
     },
     "metadata": {},
     "output_type": "display_data"
    }
   ],
   "source": [
    "# Print Shape Cosine Similarity\n",
    "similarity = cosine_similarity(feature_vectors)\n",
    "print  (similarity )\n",
    "\n",
    "display(similarity.shape)\n"
   ]
  },
  {
   "cell_type": "code",
   "execution_count": 26,
   "id": "bf36a55c-5c22-4408-b59e-8ce9a41d1f59",
   "metadata": {},
   "outputs": [],
   "source": [
    "pd.DataFrame(similarity).to_csv('Movie.csv')"
   ]
  },
  {
   "cell_type": "code",
   "execution_count": 27,
   "id": "83058588-fb66-434a-8e96-adc9016fd25f",
   "metadata": {},
   "outputs": [
    {
     "name": "stdin",
     "output_type": "stream",
     "text": [
      " Enter your favourite movie name :  hitman\n"
     ]
    }
   ],
   "source": [
    "\n",
    "# Enter the movie name to get Similarity \n",
    "movie_name = input(' Enter your favourite movie name : ')\n"
   ]
  },
  {
   "cell_type": "code",
   "execution_count": 28,
   "id": "e16ad57b-31af-47f0-9640-c10087f37d42",
   "metadata": {},
   "outputs": [],
   "source": [
    "# Creating a list with all the movie names given in the dataset\n",
    "\n",
    "list_of_all_titles = movies_data['title'].tolist()\n",
    "# print(list_of_all_titles)\n"
   ]
  },
  {
   "cell_type": "code",
   "execution_count": 29,
   "id": "56b10ca4-f774-449a-b8a0-c5026bdcdfb7",
   "metadata": {},
   "outputs": [
    {
     "data": {
      "text/plain": [
       "4803"
      ]
     },
     "execution_count": 29,
     "metadata": {},
     "output_type": "execute_result"
    }
   ],
   "source": [
    "\n",
    "# Length of the List \n",
    "len(list_of_all_titles)\n"
   ]
  },
  {
   "cell_type": "code",
   "execution_count": 31,
   "id": "5104ba9c-2368-4beb-a03f-68f2b2723199",
   "metadata": {},
   "outputs": [
    {
     "name": "stdout",
     "output_type": "stream",
     "text": [
      "['Hitman', 'Batman', 'Batman']\n"
     ]
    }
   ],
   "source": [
    "# Finding the close match for the movie name given by the user\n",
    "\n",
    "find_close_match = difflib.get_close_matches(movie_name, list_of_all_titles)\n",
    "print(find_close_match)\n"
   ]
  },
  {
   "cell_type": "code",
   "execution_count": 32,
   "id": "7518ef37-f78c-45e0-98cf-4f777337887c",
   "metadata": {},
   "outputs": [
    {
     "name": "stdout",
     "output_type": "stream",
     "text": [
      "Hitman\n"
     ]
    }
   ],
   "source": [
    "# Display the close match \n",
    "if find_close_match:\n",
    "    close_match = find_close_match[0]\n",
    "    print(close_match)\n",
    "else:\n",
    "    print(\"No close match found.\")"
   ]
  },
  {
   "cell_type": "code",
   "execution_count": 35,
   "id": "76c2c3a7-912a-4109-a4c2-635345e42d9c",
   "metadata": {},
   "outputs": [
    {
     "name": "stdout",
     "output_type": "stream",
     "text": [
      "2398\n"
     ]
    }
   ],
   "source": [
    "# Finding the index of the movie with the title\n",
    "index_of_the_movie = movies_data[movies_data.title == close_match]['index'].values[0]    #change the index as imbid\n",
    "print(index_of_the_movie)"
   ]
  },
  {
   "cell_type": "code",
   "execution_count": 37,
   "id": "f008b5c4-5b23-433f-9eef-b8c2fcb07c29",
   "metadata": {},
   "outputs": [
    {
     "name": "stdout",
     "output_type": "stream",
     "text": [
      "         0         1\n",
      "0        0  0.005865\n",
      "1        1  0.005119\n",
      "2        2  0.035461\n",
      "3        3  0.087777\n",
      "4        4  0.005712\n",
      "...    ...       ...\n",
      "4798  4798  0.023777\n",
      "4799  4799  0.000000\n",
      "4800  4800  0.020275\n",
      "4801  4801  0.000000\n",
      "4802  4802  0.000000\n",
      "\n",
      "[4803 rows x 2 columns]\n"
     ]
    }
   ],
   "source": [
    "similarity_score=list(enumerate(similarity[index_of_the_movie]))\n",
    "print(pd.DataFrame(similarity_score))"
   ]
  },
  {
   "cell_type": "code",
   "execution_count": 39,
   "id": "fe8410c9-c988-4aed-8f01-ef1e6c8794d2",
   "metadata": {},
   "outputs": [
    {
     "data": {
      "text/plain": [
       "4803"
      ]
     },
     "execution_count": 39,
     "metadata": {},
     "output_type": "execute_result"
    }
   ],
   "source": [
    "len(similarity_score)"
   ]
  },
  {
   "cell_type": "code",
   "execution_count": 41,
   "id": "b4c0360c-fdaa-46be-b6fa-5ca7e3e40688",
   "metadata": {},
   "outputs": [
    {
     "name": "stdout",
     "output_type": "stream",
     "text": [
      "[(2398, 1.0000000000000002), (248, 0.15294422651115958), (11, 0.15292400205660914), (213, 0.14237240642577714), (1139, 0.13615152284853776), (2583, 0.13614639327582806), (975, 0.13592076284543755), (694, 0.1187796962850686), (731, 0.11704770565634706), (2645, 0.11656330094686462), (939, 0.11648434080657907), (166, 0.1119554955503362), (228, 0.11044521992858027), (512, 0.10911285624996236), (261, 0.1086110108083902), (1013, 0.1075179129671605), (3956, 0.10441296020426322), (1187, 0.1031066859349796), (4270, 0.10229636336608917), (1007, 0.1022046690490624), (180, 0.10185764888976095), (378, 0.10093098188361556), (1131, 0.1001711248992935), (1758, 0.10008587145679271), (447, 0.09827372507891931), (219, 0.09649275737648005), (530, 0.09612512653426505), (455, 0.09594484465600318), (632, 0.09582690352601227), (209, 0.09482930704651245), (1610, 0.09387622718157439), (1278, 0.09141660894539931), (3077, 0.09065010443758605), (1245, 0.09029907277620869), (1020, 0.09008487225784736), (794, 0.08996130600823952), (4367, 0.0898347501724508), (762, 0.08898911738388977), (218, 0.08839042258498582), (750, 0.08829891421048483), (3, 0.0877774632202461), (2293, 0.0870470138702899), (2016, 0.0869549822967567), (1347, 0.08669117999272762), (2688, 0.08667802615867921), (1118, 0.08587454652635738), (823, 0.08448274639775763), (433, 0.08149129307654251), (714, 0.08130059927824515), (386, 0.08112108000020118), (779, 0.0807077538562762), (4081, 0.0804997644033693), (65, 0.08016007525414481), (821, 0.0800642133355534), (1049, 0.0797924616975293), (39, 0.07967137420017811), (3425, 0.07935340382435598), (252, 0.07927519800287952), (337, 0.07905895724860292), (4621, 0.07879481318420649), (553, 0.07874660826166426), (339, 0.07858831472589338), (119, 0.07696781935694563), (1096, 0.07686311681592065), (1360, 0.0753924266457238), (1398, 0.07534301238424598), (594, 0.07514413785939729), (2711, 0.07461049438853352), (1284, 0.07429163225047249), (963, 0.07371996844545142), (1906, 0.07330611555276365), (1713, 0.07260146298357319), (3792, 0.07121686301803945), (1784, 0.07074718670229733), (735, 0.07050391340352506), (4256, 0.06963326448402363), (756, 0.06944776558380865), (1568, 0.06918518583765695), (1740, 0.06902962733101187), (3197, 0.06874975134669237), (4528, 0.06846999928510243), (295, 0.06827007626605401), (695, 0.06813985603809583), (2853, 0.068019693589342), (3831, 0.06791623492067128), (1720, 0.06783696271081037), (668, 0.06750996265285775), (3290, 0.06702292003647689), (3351, 0.0666760784083175), (1469, 0.06639648244966215), (782, 0.06481413893069465), (3884, 0.06436012606413549), (2780, 0.06361439061933952), (1349, 0.06311633044127551), (1765, 0.06228669449279671), (3637, 0.062150778368769276), (854, 0.061822750746451695), (4133, 0.061542387507327954), (396, 0.061496770555447444), (2641, 0.060768336520605135), (2195, 0.060561500976096035), (778, 0.059418020654446985), (3500, 0.05902629947061714), (2754, 0.05820128160481512), (984, 0.05760768843919417), (2753, 0.05744164509341705), (3302, 0.05721938100973112), (2866, 0.056516759657994554), (1743, 0.056122165210955616), (196, 0.05589148680989491), (1279, 0.055824808101791475), (4049, 0.05537681057082778), (1437, 0.05485864747124131), (1822, 0.05459763537966012), (2381, 0.05445182380081998), (186, 0.05433952980583217), (696, 0.05411493177687892), (1458, 0.053670832891656785), (1421, 0.05361696098984184), (1089, 0.05309142066748485), (139, 0.052897295140399904), (1670, 0.05265821501097201), (3807, 0.0525290209053462), (855, 0.05247072701571808), (4474, 0.052467488187925536), (4460, 0.05218695351441889), (371, 0.05206323159775212), (2026, 0.05184570563503165), (1673, 0.051841619650376536), (2318, 0.05175347020872891), (2568, 0.05166507501889769), (2378, 0.05159120145458927), (952, 0.051563059213728966), (2586, 0.051493797203786516), (150, 0.051425426317892126), (1725, 0.05111399806685243), (3336, 0.05010870467628124), (3194, 0.04981695454172411), (3330, 0.049782449445384507), (2801, 0.04978207477103552), (2740, 0.049757322525418195), (1153, 0.04946833579287746), (3628, 0.04901827532850985), (1419, 0.04900440420763556), (1868, 0.04884813976159148), (4432, 0.04883301932387458), (4065, 0.04862871257829807), (342, 0.04856594095880458), (163, 0.04806645876877146), (713, 0.04795818939087583), (2147, 0.047750012811923884), (3521, 0.04765569824680464), (1727, 0.047515826584267354), (3631, 0.04749428215131139), (210, 0.04746939382482361), (1373, 0.047410339996249426), (1951, 0.047301486185614784), (1625, 0.04703065933196155), (147, 0.04696255858306476), (372, 0.046838263276445316), (2168, 0.04639230492160731), (1769, 0.04620709305051825), (3810, 0.04615561575923699), (3251, 0.046124625780935326), (3449, 0.04526858901239023), (4487, 0.04522394210616077), (335, 0.045223701307989944), (162, 0.04515414809294725), (4257, 0.044958644087148954), (2709, 0.04488144772856771), (3439, 0.0447254569692863), (1619, 0.04451025693306418), (1155, 0.0444540537687497), (1858, 0.04428717964600932), (904, 0.04415969609954673), (3363, 0.04406020370338133), (1317, 0.04380116466549601), (1751, 0.04377157099514675), (3969, 0.04361159177748332), (3293, 0.04356639161961767), (43, 0.04327985691820088), (2840, 0.043005229113100105), (1367, 0.0426122157946841), (3176, 0.042595242231212846), (108, 0.042462490299349634), (2654, 0.042096885455541695), (1200, 0.041887217301111744), (1084, 0.04152915606321263), (2382, 0.04141288598078617), (2903, 0.04130171930756455), (93, 0.04094642194417834), (2979, 0.04089162966945173), (2588, 0.04061904752518062), (1512, 0.04052393007245323), (1002, 0.04049616260326302), (753, 0.040298615190503255), (1243, 0.04029532095302842), (877, 0.04028136282111549), (1302, 0.04025660257063132), (2897, 0.04017000904045078), (3986, 0.040130492905129), (3952, 0.03985795570702772), (123, 0.039513331083848996), (1203, 0.03944091737794387), (3905, 0.039350025696140406), (613, 0.039228513986907215), (2724, 0.03913544408540241), (2943, 0.03907299679184592), (3526, 0.03895868375834899), (125, 0.03889975993040443), (3040, 0.03876606755745286), (2338, 0.038760218913315214), (3504, 0.03870820388310123), (724, 0.03835856795534277), (1850, 0.0383189815549132), (2196, 0.03800150294170423), (2313, 0.03774272098217134), (346, 0.03764607345727721), (1206, 0.0375907803493323), (266, 0.03750505634754222), (1688, 0.03738680083408724), (2366, 0.03733417673534247), (2207, 0.03731113476424613), (1100, 0.03719128242424651), (3348, 0.037115506848270745), (1488, 0.03703073316871666), (968, 0.037019052528338064), (1662, 0.036884593130251664), (3649, 0.036866857474579656), (4079, 0.036725369276941276), (879, 0.036709133103572995), (1461, 0.036634522231773686), (1359, 0.036602706025905735), (1363, 0.03649714774010444), (4349, 0.03595256804738896), (2609, 0.035870245698468146), (140, 0.035794937775525164), (1439, 0.035721765716543265), (314, 0.03559579461123808), (634, 0.035485667769803456), (2, 0.035461202350240556), (370, 0.03534308456079707), (300, 0.03523543617618718), (3059, 0.03519048702495479), (1133, 0.035153187818896536), (2817, 0.035143240327459524), (1506, 0.035069869777333805), (525, 0.034900748386682987), (2546, 0.03484025072877041), (493, 0.03483410334230419), (4135, 0.03477124590644883), (1072, 0.03473418962435534), (944, 0.03458272780269937), (333, 0.034506029768214756), (2517, 0.03445982087543362), (1330, 0.03427254929388034), (2232, 0.034256128404158), (2731, 0.0341822877662832), (5, 0.034132883003471184), (1592, 0.0340540685430688), (954, 0.03405314285534392), (1657, 0.03404343059480155), (767, 0.033986837936043006), (2060, 0.0339532952445349), (990, 0.03392777559463173), (850, 0.03387688817373563), (4638, 0.033843028515366545), (2642, 0.03376741296636364), (2677, 0.03376051937313928), (1127, 0.03369657175098124), (3211, 0.03366722847599689), (72, 0.033629098838084966), (1234, 0.033572408838191965), (2089, 0.033457388266264695), (2790, 0.033344844700414586), (2221, 0.03332594147206792), (215, 0.033325003916206096), (2543, 0.03332319498602266), (3173, 0.033319117361602854), (1615, 0.033232494499849156), (29, 0.03321441781973597), (30, 0.033207924666454544), (1781, 0.03308788397371767), (1052, 0.03304852379935177), (761, 0.03299726404061145), (2046, 0.03298851741322592), (3304, 0.03297692800648189), (774, 0.03291922472143579), (4401, 0.03280159033213858), (822, 0.032783611272603125), (3062, 0.0326541800502143), (481, 0.03259857835005532), (1083, 0.0325611792718776), (1627, 0.03250445304395981), (2002, 0.03245204197279407), (1008, 0.03244619370890348), (596, 0.03238688750783718), (3682, 0.03226006553801584), (629, 0.032246532739259155), (1739, 0.03223117451161702), (3976, 0.03221735370614906), (2803, 0.03212572342595994), (1196, 0.032125099721392436), (1952, 0.03208860810375646), (3294, 0.03208785182302832), (2066, 0.03206039828932881), (76, 0.032009649686022885), (4476, 0.031862966015132874), (3337, 0.03184073325360964), (706, 0.031832680213552046), (2752, 0.031828584563157514), (3624, 0.031821163491018226), (1997, 0.03179766967142132), (2966, 0.03179104552676581), (3667, 0.031784675961998854), (3231, 0.03178391975382439), (851, 0.03149033561016913), (95, 0.031443291661979865), (4772, 0.0313732795787391), (144, 0.03135475462636037), (622, 0.03134252918341338), (4427, 0.03121122710396163), (2275, 0.031178279347519405), (3359, 0.031111838534164445), (4424, 0.030989784186185997), (3441, 0.030969844360668963), (421, 0.030962410557360164), (2029, 0.03095140943058287), (1205, 0.03087895393088293), (840, 0.030802495866494386), (2878, 0.03070362602529161), (3507, 0.030594287530821565), (519, 0.030572086226334595), (882, 0.03056611157421317), (3685, 0.03054042261774331), (391, 0.030488981378490654), (856, 0.030454983004254282), (2389, 0.03035442436534805), (568, 0.030237464654201827), (1873, 0.03015795208064275), (3349, 0.030119459377677966), (350, 0.03008765889354135), (2031, 0.030074704587581956), (4039, 0.029948158289040648), (1546, 0.029864159004248884), (3427, 0.029853813973445102), (1929, 0.029821675587146157), (2793, 0.02979388061972028), (580, 0.02978134540021323), (1050, 0.029772374324432596), (1742, 0.0296598052190793), (2867, 0.029659409057309995), (1771, 0.029605977512530492), (669, 0.029581789233977508), (3851, 0.02957249796486837), (992, 0.029541062257213865), (2091, 0.029528386223077595), (1253, 0.029495613266563574), (1334, 0.029474082200943583), (2229, 0.029449057931996356), (988, 0.02930748412001387), (2934, 0.02929357617520566), (3839, 0.029172307385692972), (4250, 0.02912766184037011), (1077, 0.02911686115798697), (1105, 0.029090721919219794), (1978, 0.028928366896434615), (600, 0.02889812593750041), (2484, 0.028880456166060955), (2533, 0.02884351357251311), (562, 0.028705747124212984), (2181, 0.02868430694673106), (205, 0.028651903044965357), (626, 0.028582397238680855), (1664, 0.02856728669661999), (2958, 0.028562255095014477), (4796, 0.028545130098119032), (356, 0.02850170229816968), (3153, 0.028458265029301905), (3618, 0.028306694381049748), (1728, 0.02824630660917562), (965, 0.028240079763616907), (523, 0.02823025617513217), (198, 0.028208544346469987), (283, 0.02815397085124295), (4408, 0.028123789889918892), (2627, 0.02797864439320527), (711, 0.0279635748375972), (2764, 0.027926196565872228), (908, 0.02789332567219593), (286, 0.02788420786588796), (1828, 0.027857998654007537), (768, 0.027826247172568735), (319, 0.027820929466385435), (2371, 0.02776971477322703), (3267, 0.027757284701919113), (1927, 0.027741707776000896), (1795, 0.02773710701488972), (1792, 0.02772136047381631), (4769, 0.02769919401237956), (343, 0.027668738576143628), (1121, 0.027647557172019624), (1503, 0.02759569818654783), (2072, 0.02753123743190225), (2518, 0.027527877746085238), (3486, 0.027516188980242672), (402, 0.027512164057749457), (274, 0.027460132180646486), (3887, 0.02742875434005229), (3224, 0.027425559202567566), (4227, 0.027325577560257094), (953, 0.02730219391056468), (183, 0.02728359096215915), (3581, 0.027249791376229897), (4438, 0.02724861178548032), (4326, 0.02721066443815743), (2625, 0.027201095728994935), (3819, 0.027199982900794603), (4083, 0.02718735228093375), (3318, 0.027153045894784962), (2584, 0.027120650319901504), (1338, 0.027104854770555662), (3694, 0.026978414476114244), (662, 0.026972095548477838), (3695, 0.026957110955155145), (157, 0.026956070959683713), (3893, 0.026901596505513374), (2365, 0.026892675244483914), (716, 0.026873701826797936), (281, 0.026872713488980494), (4626, 0.026864433216657307), (2982, 0.026843318825626326), (4106, 0.026823561944986904), (1175, 0.026802759111128595), (3968, 0.02675950132011069), (2578, 0.02672136011519704), (1110, 0.02671763720262675), (2636, 0.026607684413678716), (4372, 0.02659960093159938), (1827, 0.026543343431366866), (3285, 0.026470795680519733), (279, 0.026438797095880533), (1663, 0.026421324982781692), (2442, 0.02641596441330681), (980, 0.026398003628852744), (3085, 0.0263959922653669), (1711, 0.026342639634094653), (1395, 0.0263279754146615), (4076, 0.026314188809643712), (1177, 0.026287665902020654), (3352, 0.026241640256362216), (1636, 0.02616026866836529), (164, 0.026044820725235375), (1847, 0.02603105258202336), (1296, 0.026003463003476363), (4468, 0.025874969259704086), (2310, 0.025861153789270216), (1369, 0.025835592551132817), (4211, 0.025780308604540645), (534, 0.02571628560097465), (3714, 0.02569035845914667), (2329, 0.025627484815085123), (1986, 0.025545105656170436), (2613, 0.025530562170798715), (3890, 0.025512580739149596), (1202, 0.02547326619193393), (1146, 0.025443199756373002), (225, 0.025217222374452657), (1358, 0.025210240642211234), (2223, 0.025091649125861985), (615, 0.02505563750246577), (683, 0.025006947635207624), (2692, 0.024919558192927915), (3162, 0.02490449752118404), (945, 0.024870497865985903), (75, 0.024866713186468374), (3158, 0.024826278910990773), (2915, 0.024796676189648363), (892, 0.02477359505296249), (1701, 0.024764164447164318), (2304, 0.024730512554477946), (3180, 0.02460788630093006), (4207, 0.024590495411808112), (517, 0.02452200392489268), (4392, 0.024513027731810723), (3332, 0.02450958535957893), (3000, 0.024427951086230006), (2154, 0.024392884691622756), (3433, 0.0243833338967009), (2776, 0.024348958195519608), (1401, 0.02433764089054793), (2573, 0.02433508347416111), (3325, 0.024297479135192486), (832, 0.024252793473694776), (1932, 0.024167702935877274), (2218, 0.024142065686087788), (3751, 0.024133749347380887), (363, 0.024095020987314787), (1184, 0.02405915359418608), (3966, 0.024044717845065126), (760, 0.024021653773884377), (2842, 0.023916535685261697), (919, 0.023915800535887526), (1915, 0.023883665834711364), (1247, 0.023839694956296176), (1448, 0.023829972496441795), (1589, 0.023796204751216285), (4798, 0.02377741758987708), (4310, 0.02370255646725178), (4421, 0.023691249367265868), (2748, 0.023691202383908216), (2120, 0.023689678667393462), (2063, 0.023652239451592918), (1178, 0.023635333340719416), (4230, 0.02356322169210828), (1192, 0.023544973138602168), (2614, 0.02352609339438637), (3447, 0.023523873274125535), (593, 0.02350519236074638), (1151, 0.0235044244409848), (3078, 0.023419888738379264), (1249, 0.02340991675780076), (4299, 0.023323154584241522), (2250, 0.02332194608046457), (4767, 0.023321279663522737), (1285, 0.023298478574324065), (2405, 0.023273821346957276), (344, 0.023262622229609023), (3110, 0.023232128120263616), (1254, 0.023169506654932337), (880, 0.02316120606533238), (652, 0.023157069772214222), (4089, 0.02315364829467122), (3316, 0.023137485238582417), (3784, 0.023119018691009116), (38, 0.023105193080397747), (3644, 0.02310455075832795), (2159, 0.023078948083549117), (4501, 0.023039323364500368), (3616, 0.02303874903050288), (4725, 0.022979689863201536), (1411, 0.022948558867061816), (1518, 0.022843889976416024), (747, 0.02282188719193387), (4281, 0.022700270737091827), (4273, 0.022669442884992903), (320, 0.02266565966356729), (982, 0.022653795684899388), (3881, 0.022652411560149015), (364, 0.02259000432011772), (20, 0.022545452175391292), (859, 0.02253932938204973), (1449, 0.02252735912861404), (2216, 0.02252581433839224), (2255, 0.022487654013602594), (4269, 0.022446776653634776), (1624, 0.0223850775704868), (1543, 0.02237411944263171), (3858, 0.022364540228486038), (58, 0.022331360202280222), (4034, 0.022314042992217474), (844, 0.02229740345208522), (1675, 0.02223833737039302), (1470, 0.022206104899616753), (2795, 0.022201173485516538), (3623, 0.022154921011832446), (88, 0.022154436774179144), (3873, 0.02208394753583346), (2577, 0.02208271755887305), (3972, 0.022052930041817163), (4778, 0.02204560947387318), (1596, 0.022040019545451855), (345, 0.021983975018918307), (1381, 0.021966857417638083), (1897, 0.021963119294259457), (4222, 0.02195424452224917), (1479, 0.021950530788819495), (4753, 0.02192492451813499), (4337, 0.021922371000333552), (1417, 0.021908199763695423), (3286, 0.021906581498608458), (866, 0.021893155572971522), (2277, 0.021841983482056765), (432, 0.02184156454831323), (3165, 0.021840803249116122), (1033, 0.02182155220819229), (3306, 0.02182124447769693), (3297, 0.021802055226665954), (4717, 0.021785352522704013), (3859, 0.021775643033349217), (1853, 0.02175136885988552), (1024, 0.021750615693603516), (1651, 0.02173157591944881), (888, 0.02171782305140421), (590, 0.02170487145105436), (2959, 0.021691961025686234), (1457, 0.021653505700992576), (1452, 0.021567527567634606), (1640, 0.021516566834889516), (1759, 0.02146181653003758), (454, 0.021447950875166363), (918, 0.021445663142245268), (4370, 0.02144470369229158), (3833, 0.021438829272838415), (1772, 0.021420354802070694), (3409, 0.021371377196737797), (3938, 0.021359137555977084), (777, 0.021345898544661197), (1860, 0.02134366180481591), (85, 0.02130616936149189), (270, 0.021291484349421085), (2260, 0.021273229994078803), (741, 0.021245051881586107), (4099, 0.021231824010301284), (1443, 0.021231444040543224), (3643, 0.021208670046869646), (2388, 0.02119723120839119), (533, 0.021192922989171234), (2514, 0.021143012195891354), (3412, 0.021106255237632193), (506, 0.021097362045849305), (2558, 0.021079203784109907), (267, 0.021056552626189905), (1635, 0.020929394867597987), (1985, 0.020861896814357288), (1894, 0.020826598382222367), (2706, 0.02081420878035207), (4357, 0.02078158304061566), (3117, 0.020780668995185166), (4136, 0.020772665455773973), (1111, 0.02075804794818474), (1124, 0.020735596695640977), (3550, 0.0206736047746797), (4023, 0.02067171605161039), (1600, 0.02058681647169803), (2353, 0.02057894622658883), (857, 0.020569663991687102), (3665, 0.02055708067498114), (3592, 0.02052473614840552), (4061, 0.02048132219554575), (170, 0.02047107582296258), (3074, 0.020462794130658588), (107, 0.020447119176848657), (2349, 0.0203640141671578), (3518, 0.02028939322905554), (4695, 0.02027533768913595), (4800, 0.020275081848924695), (1654, 0.020274493668332595), (1350, 0.020272949558583088), (1992, 0.020247372609235297), (2707, 0.020237391993064482), (4071, 0.020225801363866668), (4399, 0.020208171989704843), (3896, 0.02020549221244224), (1370, 0.020184350975668855), (2829, 0.0201834380357281), (3476, 0.020166864094569206), (610, 0.020128144192741143), (865, 0.02012103073394421), (3073, 0.020118665302268787), (26, 0.020108583085320146), (1076, 0.020060619711585105), (3450, 0.020041186135995214), (825, 0.020023224648831526), (2726, 0.0200140087482237), (4780, 0.019992411061986525), (1699, 0.019982099156927197), (1073, 0.01997688279363324), (973, 0.01995827958114649), (4555, 0.01995235086214851), (2235, 0.019890855985640863), (4793, 0.019866090486801685), (4547, 0.019865016528912146), (1281, 0.01985010862880595), (2531, 0.01984556551483508), (2487, 0.01983637750934189), (1086, 0.019805692374424477), (894, 0.01980376957913255), (873, 0.01979864014715834), (4078, 0.019777656803790664), (2412, 0.019760106641376896), (1991, 0.019749599442032088), (557, 0.019699197806169685), (2480, 0.01969879860154325), (3799, 0.019695100359303195), (1418, 0.019666831515311768), (2662, 0.019664778723424956), (2435, 0.019660789728117235), (659, 0.019658015479621323), (204, 0.019653189630545027), (1445, 0.019636722578935353), (96, 0.019625827244678526), (1840, 0.019556487647542187), (7, 0.019483419267659764), (2391, 0.01946275456871377), (3842, 0.01944595856091907), (2879, 0.019445279817050895), (4279, 0.01942008840155162), (3583, 0.019391197990122996), (670, 0.019361645744584707), (4145, 0.0193589372348803), (2649, 0.01933837652848499), (4205, 0.019333402299402926), (2809, 0.019323763030779633), (4107, 0.019313567904114322), (3260, 0.01930475124533505), (1291, 0.01930216763810254), (2332, 0.01928929563869726), (3199, 0.01927650837204544), (2670, 0.01924518482846576), (3114, 0.01924083053810166), (1240, 0.019222235628553817), (4488, 0.019192517475874367), (2291, 0.019128836175901574), (4664, 0.019067230346697644), (4449, 0.01906096887780709), (446, 0.019028268936914963), (468, 0.019012697166212494), (3603, 0.019006844086352906), (21, 0.019000021119908367), (3455, 0.018992080422289417), (31, 0.0189695358250061), (1637, 0.01895895030340774), (3494, 0.018953919430651597), (1087, 0.01895051249871828), (1000, 0.01894593878192647), (99, 0.018933744335970438), (249, 0.018933498698042825), (1530, 0.018897003266772634), (4531, 0.01888005995771682), (1010, 0.018792003882506753), (574, 0.01877835844039903), (151, 0.018774491404153455), (263, 0.018765318830694693), (1394, 0.018733240931849037), (4688, 0.018724148711754166), (3003, 0.01871905972209013), (4033, 0.018699494313269602), (4692, 0.01868036305218531), (3499, 0.018672417652231404), (3033, 0.018657014594985685), (3437, 0.01865268646303858), (1891, 0.018619427584914083), (1834, 0.018593077490811707), (4171, 0.018589028816642494), (349, 0.018585419068787298), (2274, 0.01857927577914487), (2344, 0.01856203741255731), (500, 0.0185482752533807), (273, 0.018538549444941668), (3204, 0.018523141253563774), (3431, 0.0185194525844083), (3144, 0.018518201893565043), (826, 0.018502115478518478), (1774, 0.018500573530586525), (4630, 0.018485845989724622), (16, 0.018474423055125328), (2507, 0.018460189646322272), (4538, 0.01844794123763836), (3372, 0.01844163120201743), (3333, 0.018421444523853178), (2743, 0.01840367577126382), (1803, 0.018361867262646832), (560, 0.018358629790748697), (1607, 0.01833217512326841), (2231, 0.018319320352771423), (3326, 0.01831883906293942), (2151, 0.018312522607748433), (2129, 0.018302007874448994), (893, 0.018274727007920023), (2050, 0.01826243100875002), (1103, 0.018250300930117057), (3529, 0.01824206153668072), (4758, 0.0182414994773178), (2071, 0.018224193117583876), (1535, 0.018212320184025386), (1845, 0.01819675728722423), (3727, 0.018185731857627535), (738, 0.01816339667559983), (2886, 0.018124744682280293), (739, 0.01812379069830111), (68, 0.01810095059500455), (2957, 0.018084675727890385), (3152, 0.018084405837056925), (660, 0.01807481042788276), (3857, 0.018069649823875097), (3122, 0.01805969690573282), (4318, 0.018049170826839565), (969, 0.018044960917350947), (2822, 0.018042929169045662), (2425, 0.018039494478897442), (1884, 0.018030930352626914), (3391, 0.018015700822824922), (1431, 0.018012778020883566), (3184, 0.017995835253298863), (2074, 0.017991428771267103), (3591, 0.017981263758389782), (1653, 0.017955987289933556), (2447, 0.01795561145428807), (2238, 0.017926164475320173), (2657, 0.017917673085019105), (2733, 0.017917499708979445), (1946, 0.01790841087240453), (1695, 0.01790676320554836), (758, 0.01789937039998999), (1429, 0.01789723126292543), (2470, 0.017891633404014076), (541, 0.017888213644300096), (1969, 0.017855872049831974), (3008, 0.01785250903084082), (1937, 0.017844832813173457), (970, 0.017835487347609806), (4598, 0.017826941751624994), (2172, 0.017792034023247), (3537, 0.01772392036379118), (958, 0.01768391879792499), (2926, 0.017679243407088152), (3726, 0.017674771347153492), (4100, 0.017667359350257757), (4167, 0.01766013584325008), (1009, 0.017652599206053686), (351, 0.0176438162663951), (2269, 0.017638224434895558), (405, 0.017636139969855198), (1361, 0.01761298552728112), (1930, 0.017608060035971346), (612, 0.01759741833600184), (1533, 0.01759306320514105), (2200, 0.017576664106162633), (2495, 0.0175490452530734), (2921, 0.01753483624081209), (4139, 0.017523257557858066), (2693, 0.017519196433056557), (3725, 0.017510127969076184), (4619, 0.01747763277540064), (79, 0.017440452040275455), (4173, 0.017432020127575564), (4656, 0.017410194083900096), (3869, 0.017403925748377274), (3127, 0.017359373924806056), (3252, 0.01735693087584497), (1513, 0.017332786066897487), (2941, 0.01730354244724868), (2502, 0.017300535334064244), (2775, 0.01728757719799677), (3912, 0.017287246809575413), (804, 0.017267674814444217), (1183, 0.017246177123808812), (764, 0.01722379535565956), (1466, 0.017223223022433457), (2107, 0.01721352916593338), (1484, 0.017208227291754016), (1041, 0.017191247508750784), (1194, 0.017184264905133424), (830, 0.01718187060507459), (757, 0.017181123561382836), (1644, 0.01716608439575195), (60, 0.01715383780831127), (1472, 0.017143952021084756), (717, 0.017133705994023925), (4156, 0.017123589671606602), (1051, 0.017121105812856068), (2931, 0.01711951468905353), (503, 0.017107628517498447), (3566, 0.01708508973377371), (1674, 0.01708217746284091), (1456, 0.01707438470637118), (2569, 0.01706782008375777), (1058, 0.017032067404365546), (3389, 0.017022628718759363), (2360, 0.017012607464448697), (3541, 0.016999627051424084), (3785, 0.016981737170963393), (1945, 0.01697255987761178), (1558, 0.016966224299474655), (2965, 0.01694642249273474), (3309, 0.01694529662594439), (775, 0.01694218327971193), (2222, 0.016931265280085487), (1931, 0.016921815802137592), (1156, 0.016916274215561012), (4706, 0.01690500762884697), (3299, 0.0168981942038617), (1525, 0.016892255610327284), (2690, 0.01687723325126281), (1892, 0.01687342722487769), (1486, 0.016866458070180224), (898, 0.016864978506976228), (442, 0.016864805556891335), (1170, 0.016846737836119556), (4760, 0.01684310448503387), (3284, 0.01684131407780524), (3561, 0.016836567138861034), (2537, 0.016823527121097435), (308, 0.016805513934675845), (2188, 0.016795125317484026), (2428, 0.01678009705033938), (1135, 0.016777009371594594), (763, 0.016776974366374015), (2034, 0.016750697242401844), (2038, 0.01674043833831586), (2055, 0.016709175690247605), (4409, 0.016687479489754277), (4111, 0.016681789963950155), (1483, 0.016655149015569), (1912, 0.01664655907488993), (1955, 0.016639992621083094), (1529, 0.01662037051366501), (1919, 0.016612615937343495), (1521, 0.01660114232348685), (2273, 0.016598245056611158), (4162, 0.016597680050862113), (3397, 0.016595714311038557), (538, 0.016594839739301877), (949, 0.016584320801723455), (2720, 0.01658316954186712), (639, 0.016569471459805037), (1719, 0.016566955294473704), (3088, 0.016565467107022953), (2561, 0.01655377826445139), (1099, 0.016551199274392997), (1003, 0.01652472089550327), (2261, 0.01650373293539121), (3734, 0.016497282761989467), (2932, 0.016488436083317962), (1684, 0.01647983552212105), (3477, 0.016459245700477805), (1618, 0.016451020571565108), (1210, 0.01641482220116164), (1502, 0.01640551514572587), (2880, 0.016403917625963358), (1767, 0.016396684027539552), (1082, 0.016389850720798883), (4734, 0.016379246280595193), (354, 0.016357747001820497), (996, 0.01634171447891617), (3828, 0.01632818871042624), (3658, 0.01630529303661274), (641, 0.016274774802773038), (1661, 0.016254879618041097), (1540, 0.01624998532332245), (729, 0.01624649539668074), (3196, 0.016239421217496063), (3850, 0.01623909614251773), (2336, 0.016212385111980258), (1791, 0.016182650059298635), (2042, 0.016164664868765655), (2597, 0.016139307013752657), (2220, 0.01612216080361273), (2008, 0.01610812905728482), (384, 0.016079480860806683), (4320, 0.016079243767473488), (3322, 0.01607565352373628), (3236, 0.016052227340809296), (1114, 0.01603802662788794), (2457, 0.0160307110145111), (3488, 0.016026920492698358), (2205, 0.0160257851785853), (2424, 0.015991276401101182), (2475, 0.01598900542073543), (1748, 0.01597580587209477), (2130, 0.0159633734338046), (1090, 0.015960987657856137), (1337, 0.01596064618231972), (1305, 0.015958594189097532), (1829, 0.015953480290914812), (2540, 0.01594913263605829), (1057, 0.01593375833384329), (2124, 0.01589301131105742), (4010, 0.01588616435356835), (3052, 0.01586089873764629), (2961, 0.01585839810446734), (2058, 0.015858331429072427), (497, 0.01583868375488689), (1216, 0.01583850901499162), (3234, 0.015819104818447748), (3399, 0.015802764183755307), (172, 0.015796697814032982), (292, 0.015784589436031064), (4680, 0.015778856856990136), (2102, 0.015776530391526076), (3568, 0.015776171013760207), (4074, 0.015757466474698386), (3789, 0.015742102834234876), (1374, 0.01572357105768482), (1328, 0.01572027197278633), (353, 0.015693937704152266), (3147, 0.015683769675125005), (3811, 0.015667729257651003), (4684, 0.015667693879322004), (2510, 0.015658611357307606), (1517, 0.01565828863561123), (3949, 0.01563481966853398), (867, 0.015618382126893758), (1038, 0.015606512710693871), (3700, 0.015605412544200425), (4124, 0.015603464183755897), (1715, 0.01559769582305355), (1896, 0.015594981699772189), (1454, 0.015592476603445392), (2410, 0.015550792436650192), (4733, 0.015535003008602753), (3693, 0.015513816893585771), (2453, 0.015496344686333657), (440, 0.01548692529570291), (2219, 0.015426743615520032), (2523, 0.015402579890848605), (789, 0.015396643979542652), (2240, 0.015394452516173635), (2646, 0.01538736969997276), (1267, 0.01537739003964102), (2111, 0.015377014560044474), (1660, 0.015363982661613533), (817, 0.015332110782708401), (1495, 0.015327906864455142), (1269, 0.015320737814427624), (3454, 0.015301849371984687), (733, 0.01529193909930148), (1805, 0.015288350290354528), (1342, 0.015283367836148478), (2418, 0.015268805556317148), (1164, 0.015256225309833088), (2536, 0.015253763470044682), (2326, 0.015252886777112123), (4563, 0.015237688886979205), (1273, 0.015234395075343781), (4154, 0.015233317691657557), (3834, 0.015233137787627082), (1218, 0.015216274484692894), (3634, 0.015208113842476112), (4592, 0.015175083946856715), (1981, 0.0151462028633207), (1505, 0.015136050450388065), (82, 0.01513019282269416), (415, 0.015090836195596688), (1054, 0.015079895573704774), (3416, 0.015061956246238163), (4660, 0.015061800755439001), (4300, 0.01505624839748251), (3250, 0.015055664874385078), (428, 0.015045585933606154), (3257, 0.015043047840454671), (2346, 0.015040760637648129), (1943, 0.015030549973135139), (4184, 0.015020597895208201), (1075, 0.015018357558355736), (1837, 0.015011588883304353), (950, 0.015004530538114139), (3795, 0.014999820098180239), (1464, 0.014987611562191598), (3506, 0.01498519307613734), (4652, 0.014969883921286991), (1292, 0.014969205145745523), (220, 0.014963623950567977), (1538, 0.014958267998437757), (1236, 0.014956864348361871), (2735, 0.014954177228915908), (1844, 0.014945669765214158), (3400, 0.014936005952693593), (1005, 0.014924689066873664), (2736, 0.014912265330924232), (444, 0.01489680464133241), (895, 0.01488719084079545), (81, 0.014883566691936786), (453, 0.014864480236101246), (222, 0.014851352754357137), (1703, 0.014846603037903323), (3941, 0.01483717041007072), (3812, 0.014834387488581425), (365, 0.014831647692142895), (2037, 0.014811085615185859), (2187, 0.014789178076423354), (4295, 0.014774610532851812), (807, 0.014772636121026396), (974, 0.014760377998966935), (4161, 0.014759439467479759), (818, 0.014750588954879858), (3849, 0.014725009908287665), (2818, 0.014724318946988337), (1372, 0.014720549582693672), (3101, 0.014719671640588516), (3931, 0.01469244687615887), (2647, 0.01467779787646455), (2156, 0.01467541995587629), (2165, 0.014671613496189324), (104, 0.014660407211099359), (299, 0.014641088358260518), (2872, 0.014622624060427065), (828, 0.014620743426742166), (1632, 0.014617377078588657), (1173, 0.014609526691507845), (2440, 0.014609421007524211), (4681, 0.014608625478315165), (4265, 0.014604617323891744), (1035, 0.014601323956785307), (408, 0.0145903535483313), (4589, 0.014570403701857084), (388, 0.014569592342369191), (645, 0.01455780620181876), (297, 0.01455327864285514), (4397, 0.014552687250061648), (1641, 0.014543405266301941), (1626, 0.014539392464666609), (2545, 0.014530482500930714), (2587, 0.014523602133403571), (1841, 0.014513179557602077), (911, 0.014509650238818717), (3244, 0.01448713393481538), (4286, 0.01447646445846066), (540, 0.014476066334212303), (834, 0.01447485591954535), (1434, 0.014474479557115325), (1738, 0.014443232722021235), (4549, 0.014441425065717415), (3545, 0.014411655708254464), (979, 0.014394126936279995), (702, 0.014390288003909912), (303, 0.014376115201327457), (4739, 0.014371821560659307), (4732, 0.014357106101312682), (588, 0.014343104809263787), (4472, 0.014326747877702065), (2553, 0.01429916830352825), (2380, 0.014251923567012372), (2295, 0.01424534052290255), (2395, 0.01423494665791004), (3962, 0.014234011929393393), (1432, 0.01420463114379088), (3355, 0.01417757964462193), (591, 0.014174762125179978), (1909, 0.014165657586265177), (1712, 0.014156933345585744), (1339, 0.01414645280544732), (737, 0.014139171083830619), (3463, 0.01413904553017311), (3786, 0.01410069373032548), (808, 0.01409480654356149), (4287, 0.014084181515039047), (2728, 0.014079019744678237), (310, 0.014062273747699623), (3323, 0.014057146470163966), (2314, 0.014052989603060739), (2471, 0.01404656397023183), (2632, 0.014041716444479104), (544, 0.014036990568006374), (1556, 0.01403320256858671), (2767, 0.014031910978779092), (2635, 0.014030692734934532), (4195, 0.014019986766946572), (700, 0.014018292467828007), (510, 0.014018201869126562), (754, 0.013998733225130778), (1158, 0.013988312237699387), (3668, 0.013975471194267829), (1440, 0.013975448741774279), (3093, 0.01392908557146448), (2169, 0.013927939618480923), (3020, 0.01390683723468725), (809, 0.013901254653880053), (4233, 0.01390094765128003), (1537, 0.013881220720226727), (2538, 0.013879891804694866), (1209, 0.01387577965522041), (3880, 0.013842202570837046), (3048, 0.013798940799394107), (1043, 0.013793085889144355), (2183, 0.013734681858293397), (398, 0.013723950498967533), (1823, 0.013709129891249469), (3207, 0.013695822043478101), (4502, 0.013690834696733347), (2841, 0.01368500914640922), (960, 0.01367735472654976), (876, 0.013613825162129074), (1681, 0.0136063199010533), (677, 0.013596467015661338), (3050, 0.013581774743135046), (2299, 0.013538337947307756), (2541, 0.013534394879746022), (813, 0.013523513662019655), (367, 0.013514411518002195), (2821, 0.013502529010700369), (3875, 0.01349120204337855), (3705, 0.013488064275925598), (1993, 0.013467234992248002), (4226, 0.01345922751678163), (376, 0.01345506627402751), (3019, 0.013433658184588158), (284, 0.01341284979708688), (1542, 0.013412257965972597), (3509, 0.013396720737189227), (2888, 0.013393185343409053), (1753, 0.013368567275103611), (1188, 0.01336290805146699), (256, 0.013349534410178724), (2040, 0.013345063276576518), (2174, 0.013343405885393846), (1975, 0.013292052460045379), (1137, 0.01328758955899945), (2384, 0.013285175737318657), (1251, 0.013283605606710477), (725, 0.013278688130081439), (3640, 0.013276654454372861), (3091, 0.013274976883393465), (3090, 0.013249781369402821), (4325, 0.013221868477917165), (1573, 0.01320658963108877), (1666, 0.013203827028208144), (4225, 0.013201129025698727), (4217, 0.013200364905697256), (1504, 0.013197646480281372), (1300, 0.013193075928381372), (2308, 0.013189250484317173), (2049, 0.013177911757220955), (3106, 0.013158276491935846), (1507, 0.01315627301569545), (4258, 0.013149876094305532), (571, 0.013147993469142614), (1669, 0.0131211280250287), (1785, 0.013116697883250504), (4364, 0.013102423745217188), (1752, 0.013076366034953383), (1282, 0.013075639572929017), (811, 0.013059621595981452), (90, 0.013059093863569253), (2201, 0.013048552254662676), (285, 0.013047453755578173), (3275, 0.013035723998748125), (3492, 0.013026039200204332), (688, 0.013023108655209241), (45, 0.013017249980736782), (542, 0.012984603157514048), (2004, 0.01295313661414767), (800, 0.012949769153449878), (3824, 0.012929689353959302), (247, 0.012918837630373171), (1297, 0.01291619638065274), (608, 0.012916157896426642), (2885, 0.012909310075980557), (116, 0.012899665714588539), (2708, 0.012884971426133488), (1972, 0.01288225779844498), (4554, 0.012869619290509674), (1450, 0.012869168795751304), (621, 0.012838433967687773), (3448, 0.012832875105118977), (2605, 0.01282431312159782), (3087, 0.012823084489495517), (3625, 0.012815434055466306), (611, 0.012808062872071828), (4425, 0.012797127739270359), (3303, 0.01279078177265711), (2047, 0.012709226669542703), (4730, 0.012706102861549304), (1798, 0.012690526480751602), (3417, 0.012685132387837), (1553, 0.012682917067439407), (3774, 0.01266276983819677), (2228, 0.012661352791251945), (2508, 0.01264705856214647), (2525, 0.012617939007458374), (2203, 0.012608607732959838), (3229, 0.012607495299531996), (3835, 0.012587334195308665), (3148, 0.012583813733658317), (734, 0.012580430423535103), (312, 0.012555047006068593), (377, 0.01254410665153115), (437, 0.01253493053887575), (3553, 0.012510295656192173), (732, 0.01250904377739449), (514, 0.012469644685378504), (4634, 0.012458265807100995), (2762, 0.012444800238151886), (1149, 0.012432284247786907), (929, 0.012424059858397677), (680, 0.01241991157689941), (3259, 0.012417926021311438), (3035, 0.012411747128744554), (3516, 0.012408550381214894), (271, 0.012404508879417344), (3021, 0.012392272725248435), (602, 0.012390558535332883), (1463, 0.012389294451457328), (325, 0.01238871829489428), (3701, 0.012385348267079994), (1047, 0.012383566936502916), (425, 0.012378433931221716), (4792, 0.01236488787226003), (3123, 0.012361400096150416), (941, 0.012351897118675863), (3128, 0.012350546538913012), (1397, 0.01234328848074009), (4402, 0.012336326502906673), (1220, 0.012323016228827713), (1193, 0.012319128051653213), (3895, 0.012294256854921411), (3232, 0.012284538691214986), (983, 0.012281648715893333), (3846, 0.012279124676878665), (1800, 0.012275870326389833), (2285, 0.012275608735235083), (703, 0.012269591476303592), (122, 0.012265737525216747), (2858, 0.012261582414105575), (4499, 0.012255026446287672), (3209, 0.012231480888511288), (3291, 0.012223285439875168), (2980, 0.012222307393043905), (311, 0.01221079312787245), (4576, 0.012207450823092067), (1639, 0.012205648870648586), (4708, 0.01220374523171176), (1018, 0.012183024886579637), (1199, 0.012181236506403523), (601, 0.012177334256210294), (2316, 0.012173665539447154), (2783, 0.012167659518760452), (2193, 0.012145401921634647), (1289, 0.01214468344084431), (2212, 0.012137390505621782), (244, 0.012082319013174324), (2448, 0.012073458160370773), (1807, 0.012063315744467803), (1409, 0.012053125323059938), (4159, 0.012041557492797268), (1734, 0.012031749349213262), (2393, 0.012020500603755202), (665, 0.012012649757525404), (976, 0.01199894482877347), (4556, 0.011996116161960398), (655, 0.011993315812913788), (3772, 0.01199273006804753), (3446, 0.011977963443706635), (3169, 0.011977702232600454), (2317, 0.011975008146892618), (1425, 0.011969221461993182), (1962, 0.01195331768402439), (1140, 0.011948448536132356), (298, 0.011946177118336388), (127, 0.011937089616145908), (3361, 0.01193697377998455), (2280, 0.011926998426510745), (2933, 0.011891658828530213), (355, 0.01184959147147318), (3467, 0.011845607959711187), (2948, 0.0118408061966561), (1971, 0.011830409334696885), (3015, 0.011829914878703704), (2905, 0.011826309409306675), (2403, 0.011825391796718241), (573, 0.011818337012557325), (1390, 0.011816645251103366), (3853, 0.011813305213146578), (1230, 0.011755372175329043), (3699, 0.011747218789794341), (1399, 0.011744055400548816), (322, 0.011723693347879099), (2521, 0.011719889747334586), (2320, 0.01171468853209965), (3826, 0.011683401895063835), (290, 0.011674245104177784), (316, 0.011668139736348433), (1826, 0.011666515949972155), (654, 0.011664350195899561), (1144, 0.011663453063449323), (4063, 0.011654530313856108), (609, 0.011651027654173186), (1320, 0.011646860157014827), (2198, 0.011646541156888617), (1628, 0.011640647671314062), (690, 0.011623151750483113), (2596, 0.011619550053162595), (863, 0.011615738706388358), (4377, 0.011585654513162066), (993, 0.011577063011238651), (3098, 0.011576304138384778), (672, 0.011568993982112117), (547, 0.01156720800806784), (1956, 0.011554460759135653), (476, 0.01155256703648258), (2750, 0.011541574236073512), (1652, 0.011532519940980979), (2977, 0.01152642196800516), (1872, 0.01152622135420896), (2110, 0.011521968326857736), (3722, 0.011514703370433088), (1119, 0.011514156991368055), (1633, 0.011512636923546198), (972, 0.011511215814217294), (3273, 0.011503664017589465), (240, 0.011497237392680066), (1272, 0.011492602674222193), (188, 0.011490660763598257), (2640, 0.011485281667469923), (4189, 0.011484767217832294), (1368, 0.011472375763385965), (2145, 0.01146809733054397), (2704, 0.011451486553564066), (1165, 0.011441074659210213), (2804, 0.011437475654591567), (1586, 0.011425892292142286), (2342, 0.011408005134912443), (4670, 0.01140208176696425), (1515, 0.011398932636179263), (33, 0.01137244628216753), (28, 0.011338628238682487), (2913, 0.011317885176333075), (277, 0.011317188131748474), (667, 0.01130643497570765), (849, 0.01130547642850746), (1757, 0.011288948682988274), (1551, 0.011288942113993842), (2967, 0.011280206715078425), (4391, 0.011274060729595073), (3378, 0.01126277561735046), (2792, 0.011255146968232575), (387, 0.011250966440154862), (1667, 0.011218419026515986), (755, 0.011212052179634998), (4526, 0.011195673660549415), (2400, 0.011190056727181732), (570, 0.011189036211800915), (1152, 0.011186160938098304), (607, 0.011184340881977554), (3343, 0.011184291469377963), (1617, 0.011183561518362358), (478, 0.011167395964139633), (2467, 0.011165866035519698), (644, 0.01115868094659428), (424, 0.011116238114394068), (3405, 0.011111723445886111), (3548, 0.011107921689730644), (3764, 0.011082405510209795), (1046, 0.011081808636850394), (4147, 0.011080379470864895), (643, 0.011075176777611336), (2061, 0.011073277827134633), (2565, 0.011071275806529335), (1319, 0.011067308161508058), (280, 0.011064749611711376), (3567, 0.011055791760495644), (4797, 0.0110552303550318), (1067, 0.011042976688382708), (4484, 0.011036879272743272), (389, 0.011034532195817888), (3817, 0.011034246806985844), (4740, 0.01101177821543659), (2799, 0.01099148728839753), (307, 0.010966135093896044), (1294, 0.010954849559818344), (217, 0.010951875053132849), (3639, 0.010946475920991619), (149, 0.010943790325956562), (2981, 0.010942451523257122), (2644, 0.010941364253302766), (883, 0.010932888621491266), (606, 0.010923975474308416), (951, 0.010922979265221799), (41, 0.010921369099846624), (505, 0.010906996327074106), (490, 0.010906959669307773), (4529, 0.010895920865588514), (472, 0.010890536473321628), (4356, 0.010870867734003932), (3373, 0.010851141676347187), (2820, 0.010850240552233657), (2084, 0.010849381874383727), (4022, 0.0108424705243854), (3606, 0.010840042296148085), (1195, 0.010820941709307572), (3982, 0.010819042343712197), (1597, 0.010805656669270261), (212, 0.010791780466691638), (1266, 0.010772363811791051), (2184, 0.010761176713161198), (1702, 0.010756668841741642), (3942, 0.010749385942786408), (1465, 0.010745760752316372), (1027, 0.010744034303102487), (1773, 0.01073453049557678), (1815, 0.01073242053048892), (2244, 0.010720657648687883), (392, 0.010715697726490248), (3749, 0.010705320681004367), (4041, 0.010700273173667911), (134, 0.010698721027038595), (658, 0.01069409129044667), (275, 0.010686289574958457), (2593, 0.01067718686445172), (1303, 0.01066829330382021), (1491, 0.010650898319196234), (528, 0.010630499633819759), (2996, 0.010619571694980477), (2225, 0.01060963094511015), (3716, 0.010593625421040505), (334, 0.010586460976070442), (1817, 0.010581400350150667), (153, 0.010578996161713077), (1523, 0.01054496361996781), (4693, 0.010542886413033786), (3825, 0.010535226072007731), (3936, 0.010530810182180456), (4038, 0.0105240813820917), (2323, 0.010519341421120022), (1482, 0.010517898935237335), (3920, 0.010505623174522704), (1447, 0.010498388966717594), (3490, 0.010482374192882917), (2675, 0.01047954991773965), (412, 0.01046621125088643), (4090, 0.010464790793877627), (1271, 0.010449816048342168), (1357, 0.010442315155617827), (2548, 0.01044026319903855), (1034, 0.010438152916232749), (864, 0.010437090014354118), (1645, 0.010427942680911635), (4339, 0.01039279844496024), (449, 0.010374052075254636), (3112, 0.010372524176868063), (3151, 0.010363795071313619), (2972, 0.01035993481562961), (1581, 0.010359783890388944), (1025, 0.010358827012196299), (3940, 0.010353040500758925), (1881, 0.010347305619777432), (2506, 0.010333579852304469), (27, 0.010327729518164965), (2237, 0.010322525948371786), (4168, 0.010313895868677139), (4393, 0.010292120716000025), (805, 0.010286010176194554), (3470, 0.010273459698531846), (2839, 0.01025785576047241), (1577, 0.010248890243230849), (203, 0.010248887590499706), (1650, 0.01024143971132146), (3617, 0.010229324131592547), (291, 0.010226009107042206), (4114, 0.01022447661935212), (4599, 0.010218926995437087), (955, 0.010210398075124178), (1106, 0.01020224446331237), (930, 0.01018053786619182), (1201, 0.01017996923741514), (3779, 0.01017855938995102), (2157, 0.010176388615771852), (3086, 0.010170582293841464), (1343, 0.010169155807462905), (3225, 0.010169082527637022), (3636, 0.010146515084050513), (1097, 0.0101408984992536), (1001, 0.010136902136309144), (2327, 0.010130847301651048), (4297, 0.010129060437264602), (282, 0.010123642872784475), (3945, 0.010112491042006594), (3357, 0.010107373931836682), (259, 0.010067101562138152), (4764, 0.010067006261878498), (4422, 0.01005406461105871), (2268, 0.010044981888601388), (4143, 0.010017164385104456), (678, 0.010012655981056391), (684, 0.010010666576396291), (581, 0.010010395464170874), (1750, 0.009994176017268996), (2043, 0.009993560206735388), (278, 0.009969457160491168), (4691, 0.009953209446635953), (985, 0.009952843654447555), (366, 0.009947864233881876), (3594, 0.00994752017815037), (2774, 0.009944316855013045), (2723, 0.00993565215521727), (3420, 0.009922823215740631), (4353, 0.009915915158730592), (881, 0.009915528074636536), (3599, 0.009911615344921753), (2486, 0.009910674322645602), (2815, 0.009891409612378353), (773, 0.009884798538692703), (4620, 0.009855189442003733), (1907, 0.009851773322345124), (2883, 0.009842788110573927), (4077, 0.009830359380525793), (165, 0.00981007936279484), (1941, 0.00980676097098243), (3154, 0.009803212076576426), (2253, 0.009801351847831595), (245, 0.009778559814880412), (2582, 0.009766040043387533), (3032, 0.009753832362764416), (736, 0.0097501766378041), (1213, 0.009726029054456546), (3978, 0.009724566004121006), (487, 0.009715941986066078), (3042, 0.009714651080927793), (959, 0.009704072255446738), (3242, 0.009648980898800426), (4129, 0.00959530699145977), (3650, 0.009593055261013509), (845, 0.009585236483683028), (587, 0.009570698342240022), (4624, 0.009552613546380137), (1382, 0.009549795943580405), (1920, 0.00954874322122981), (3522, 0.00954838419970129), (4404, 0.009528341183388151), (4004, 0.00946239750319728), (4098, 0.00945679135902285), (4590, 0.009456324827426636), (3760, 0.009449724394391004), (1995, 0.009447565987736484), (784, 0.009416161557651292), (998, 0.009401181645003996), (4209, 0.009400335803416135), (2639, 0.009380407461649766), (2650, 0.009342964040384791), (2819, 0.009338717644435583), (2623, 0.009336631392840099), (2747, 0.009332202827492083), (439, 0.009321102201347017), (3733, 0.0093163827478701), (3679, 0.009311229870133612), (1954, 0.00929052861244196), (940, 0.00925422063628572), (884, 0.00924946137084285), (994, 0.009249052874084143), (3385, 0.009245622859480471), (3709, 0.009241016201812113), (2976, 0.009234662389425545), (2007, 0.009232335173222049), (3517, 0.00923081205905036), (513, 0.009223658953280275), (3274, 0.009220529351023186), (4429, 0.009216279165204828), (3358, 0.009211447603346037), (332, 0.009207506773192072), (1107, 0.009204770494953227), (1197, 0.009187931877318615), (2128, 0.009167951054362133), (1583, 0.009165853792368618), (991, 0.009153940661224703), (3505, 0.009150071394322853), (1531, 0.00913527028114516), (3489, 0.009130168433334848), (1143, 0.009127843399555344), (2616, 0.009126041366882979), (369, 0.009125856614691258), (103, 0.009122515762442319), (2057, 0.009116921702249748), (4565, 0.009104172855731006), (2265, 0.009033862270783701), (4040, 0.009030881251304516), (2824, 0.00902620249184027), (3689, 0.009013547383112953), (3930, 0.009009768870192187), (3172, 0.009005239148500566), (4465, 0.009001405911885817), (167, 0.00898408353852735), (1181, 0.008980684240694807), (1064, 0.008978975007068998), (236, 0.008945235676714274), (3133, 0.008937159293706646), (4144, 0.00893448571056174), (1770, 0.00893076468286105), (4146, 0.00892905252154711), (2952, 0.00890847389914768), (3856, 0.008900538852503253), (3220, 0.008899000997960434), (1412, 0.008893697322585738), (3718, 0.008889368471464395), (4223, 0.008886944610592945), (4647, 0.008882394600662872), (718, 0.008863087296611104), (4067, 0.008850715349665077), (1647, 0.00884490489139603), (1924, 0.008812993932207799), (1309, 0.008800607674334288), (3863, 0.008799634811800846), (3666, 0.008790949596039651), (685, 0.008788340628506627), (112, 0.008777982912153218), (3126, 0.008755144409752648), (2307, 0.008752758654428375), (1380, 0.00874630106903302), (257, 0.008746274675480111), (589, 0.008742467282179079), (1422, 0.008736317229695204), (3007, 0.008732186212074305), (1824, 0.008723537912215588), (1239, 0.008722203400866742), (1280, 0.00872157252597141), (4330, 0.008721183067307094), (2585, 0.00871251540855112), (4509, 0.008708213102587167), (858, 0.008694486010942167), (3965, 0.008686341173731682), (1404, 0.00868437932329381), (2239, 0.008683525415116062), (3143, 0.008678443089685784), (3445, 0.008671536063076014), (2868, 0.008668594879271675), (2438, 0.008664397604779786), (1311, 0.00865673714965322), (922, 0.008652509823175062), (2864, 0.008644668045312023), (726, 0.00861849905984682), (2827, 0.008616632023780348), (1314, 0.008615615074046372), (2030, 0.00859708240728127), (1694, 0.008592969459382703), (1836, 0.008586641754514538), (3944, 0.008574554542649823), (924, 0.008567532974102052), (4051, 0.008566296207661635), (4261, 0.008565105674187905), (2123, 0.00855223614487283), (25, 0.008542124222045493), (2296, 0.008541896392402897), (2722, 0.008531174045975415), (801, 0.008530825486181014), (1799, 0.008524504437432532), (4642, 0.00851912895039483), (537, 0.008513946282340378), (3740, 0.008512357795147809), (4514, 0.008504751495887745), (1340, 0.008496511188819864), (2539, 0.00849332339817651), (1938, 0.008486847507751067), (2075, 0.008470918527029445), (1021, 0.00847084121075124), (2896, 0.008470645108699552), (3382, 0.008465448688911274), (2610, 0.008447037066335211), (3012, 0.008436243029713901), (4564, 0.008432298673106523), (575, 0.008421503769264364), (2760, 0.008409361218713019), (1116, 0.008396948747503566), (720, 0.008390338953206216), (4174, 0.008385084075258273), (4436, 0.00838196896417447), (24, 0.008375322124695576), (4388, 0.008373739807795965), (1786, 0.008368793701273622), (4453, 0.008338081512148654), (2863, 0.008334805245448027), (2386, 0.008331380273029172), (2288, 0.008328818152457314), (4457, 0.008322611313740375), (2166, 0.008321323260769614), (1928, 0.008319886540484427), (751, 0.008315510868583032), (676, 0.008312495784378987), (564, 0.008310550501387685), (3615, 0.008308108031631877), (2048, 0.008300403568512459), (4221, 0.008295020805589385), (4178, 0.00829326748570023), (383, 0.008284090512718577), (4275, 0.008275200887484988), (237, 0.008272574049800785), (2001, 0.008272299751348742), (462, 0.008265423497044802), (852, 0.008259600132155931), (246, 0.008254939006747336), (3556, 0.008252981804423059), (2167, 0.008249343638717224), (1225, 0.008248676744450496), (3109, 0.00824691089927291), (4268, 0.008246050691456052), (920, 0.008245334816776749), (1809, 0.008237214067986774), (1973, 0.008231234985440703), (1308, 0.00822703482223643), (216, 0.008211985752321078), (360, 0.008209299513501791), (620, 0.008208696378840778), (4475, 0.008199719228517382), (2678, 0.008194224319318802), (3866, 0.008190457545967658), (1022, 0.008179007384789423), (4058, 0.008176956361097202), (3060, 0.008173798396544973), (932, 0.008162233424841424), (4615, 0.008160801727186008), (2150, 0.008157134982590604), (3765, 0.008152359372546521), (1671, 0.008146967601365575), (4292, 0.008145884460541068), (1905, 0.008128254487954813), (4277, 0.008120934181000988), (2140, 0.008114552583153842), (3790, 0.008113560336470873), (3515, 0.008103844640889403), (414, 0.008103760551672095), (456, 0.008099048846979134), (1760, 0.008095581074035005), (1998, 0.008090520598845467), (3380, 0.008087987351306275), (2234, 0.008077043162577553), (535, 0.008060259828331902), (1473, 0.008059531385048488), (1908, 0.008044931562962624), (100, 0.008038148768019773), (4170, 0.008026453148016545), (2828, 0.008017054554399694), (477, 0.008016621666050605), (3862, 0.008014082860748955), (4483, 0.008003321621027792), (4291, 0.007997711261164624), (3587, 0.007985874710176396), (1182, 0.007983303881835699), (4351, 0.007976906347265899), (1154, 0.007965174171180252), (693, 0.007963499619120374), (2607, 0.007960919881373079), (4013, 0.007953777280680939), (1364, 0.00793432463938612), (2359, 0.007931679718109114), (3255, 0.007916053826244527), (1145, 0.007910656576980434), (548, 0.007899837364460387), (2564, 0.00787779721126802), (1102, 0.00787000870729298), (529, 0.007867975658805867), (4197, 0.007862318580932406), (4348, 0.007860785282443194), (3221, 0.007856510861766863), (3009, 0.007855308402800597), (4707, 0.007845924675623783), (3045, 0.00784251828661395), (3584, 0.007838518572093969), (1585, 0.007818554981517786), (2086, 0.007815378859918289), (176, 0.007801452410144127), (3239, 0.007800089290843783), (4360, 0.00779696690710918), (2385, 0.00778975282317124), (4157, 0.007789515152652346), (2927, 0.007786817378530738), (3717, 0.007781611553150186), (1332, 0.007767369990967911), (4649, 0.00776433936518142), (1672, 0.00773982171102618), (2324, 0.007730122464540639), (1550, 0.007725745386304219), (2702, 0.007722619553407407), (3138, 0.007720881961775966), (71, 0.007710486913257794), (2017, 0.007703888801068979), (1351, 0.0077037602274200746), (2161, 0.007697465106128716), (2340, 0.007685466852697326), (2117, 0.007682801079576154), (3780, 0.007681830150000683), (586, 0.007676831358554292), (1288, 0.007672005840341176), (938, 0.007671183707100702), (946, 0.007665282953903161), (721, 0.007657259660791283), (135, 0.007657171940266126), (491, 0.007634283528073062), (2845, 0.0076282443529972), (1749, 0.00762504937807912), (1782, 0.007617581626961451), (239, 0.00760798020868559), (3758, 0.007599527367800162), (4190, 0.007597812382427214), (4395, 0.007595059805408005), (2306, 0.0075924208491900584), (545, 0.007592228115671276), (4220, 0.007579785278858774), (2348, 0.0075727733193394105), (4788, 0.0075693647875247835), (1095, 0.007566264934097109), (2282, 0.007549517733285435), (2118, 0.007545924334798942), (1036, 0.007544127132321547), (3120, 0.007541762353522635), (3759, 0.007535511113341501), (1136, 0.007530665695949984), (647, 0.007517798419745418), (556, 0.007513687928132934), (2522, 0.007509831352097948), (2413, 0.007505390388238965), (1820, 0.0075010713723108555), (2080, 0.00750020945537932), (2474, 0.0074916835902661665), (2478, 0.007488434208510882), (3474, 0.0074857255391896655), (4437, 0.0074815985423139116), (1775, 0.007479268541993881), (3043, 0.007473020607909799), (4267, 0.007458419294025392), (475, 0.0074573876130903105), (3635, 0.007456266846681504), (3424, 0.007422420789175349), (1250, 0.007411733579090672), (2468, 0.00741105393336401), (2643, 0.007406931530593018), (3177, 0.0073976466783050995), (961, 0.007392875946262098), (3761, 0.007388920700833737), (987, 0.007384141561063248), (2860, 0.007380792917361078), (1109, 0.007366573973489976), (1030, 0.007362492148039116), (2983, 0.0073611041587007256), (872, 0.0073521375405641975), (2924, 0.007347914843175355), (674, 0.00734469915727393), (3104, 0.007343096027748813), (3750, 0.007340630642495848), (3475, 0.007337354252825172), (156, 0.007324274353686223), (4127, 0.0073222098598482825), (2891, 0.007317688406324555), (1255, 0.00731584187770129), (1925, 0.0072869173158018625), (2358, 0.007279986094039747), (576, 0.007276271374349674), (2036, 0.007270985673791301), (3370, 0.007249904775350953), (4032, 0.007248868175403179), (1796, 0.007236399346058067), (1964, 0.007228694344759543), (4727, 0.0072256996294476445), (4658, 0.00721872178768364), (4738, 0.007208542750555316), (84, 0.007205391893249813), (1508, 0.007193919478611937), (1298, 0.007188912737329429), (4196, 0.0071857381394795595), (2170, 0.00717996676128896), (381, 0.00714438156413671), (4451, 0.007126644164111177), (3134, 0.007117944698738038), (679, 0.007081831382402244), (2429, 0.007078946406172456), (2013, 0.007070392428593225), (3579, 0.007050067277289773), (4194, 0.007049369854641433), (1286, 0.007041774330976646), (3711, 0.007025593286355075), (527, 0.007024434587584951), (2986, 0.007018733296292851), (2899, 0.007002246641409089), (3655, 0.006998908849708782), (2052, 0.0069821042597547935), (1341, 0.006973061734773269), (2773, 0.006968033635339444), (2730, 0.006942408791264927), (2832, 0.006918012236852322), (97, 0.0069006920377201195), (2667, 0.00689952647962354), (4450, 0.006887764539707878), (2402, 0.006886350297840144), (4735, 0.006874983477309833), (1877, 0.006855162507618703), (4794, 0.006848235410945845), (3943, 0.006847291499919134), (715, 0.006824001864581729), (4542, 0.006800111750720473), (2515, 0.006799975062207676), (4500, 0.006762393164588989), (2806, 0.006746125986148098), (3111, 0.006732957258462602), (4535, 0.006679930840576458), (3804, 0.006659303679280592), (4142, 0.0066528291728893164), (518, 0.006629609973707505), (10, 0.006597319095791158), (4629, 0.006591696266538372), (56, 0.006578923868882323), (467, 0.006574893942443572), (3051, 0.006570457228790893), (2794, 0.006567642120253308), (2742, 0.006551855813120781), (4559, 0.006549211655823356), (1528, 0.006534789729146371), (4187, 0.006533929142880079), (2401, 0.0065300086367659545), (47, 0.006494086392461129), (3124, 0.006484863645096773), (1933, 0.006465093929329704), (4056, 0.0064569063963214116), (3988, 0.006446164611086447), (2757, 0.006430022230914849), (4557, 0.006425244688608484), (4415, 0.006416350252868779), (3836, 0.006414127028445308), (4654, 0.006410670619768098), (2122, 0.006392961790081069), (4266, 0.0063914036898891895), (466, 0.006389089634687693), (4546, 0.006384809466502425), (3485, 0.006369599523032105), (3948, 0.006368377579172496), (539, 0.006367833232317827), (2309, 0.006364684599646491), (4289, 0.0063633189425081685), (3882, 0.006355062291365705), (2352, 0.006341089974730358), (1733, 0.006322477192471358), (44, 0.006322430005411949), (131, 0.0063195053722849065), (101, 0.006317121751312038), (1256, 0.006315483085018908), (2466, 0.006306546046860669), (362, 0.006298059828315446), (3993, 0.006297170629224921), (1777, 0.0062888408888261875), (1444, 0.0062887690911296035), (1921, 0.006288228138385144), (4048, 0.006277338958237779), (786, 0.0062740387449754945), (2394, 0.006255230545429823), (53, 0.00625498907610689), (2655, 0.006250131148191927), (1724, 0.0062424536489562215), (102, 0.006217360353947153), (242, 0.006217171547907125), (2460, 0.006208086883584623), (1918, 0.006203591886196284), (2138, 0.00619934159852469), (111, 0.0061945805844831996), (673, 0.00618849166779421), (158, 0.0061877975100499095), (193, 0.006180139548762489), (3756, 0.006178420575304906), (1012, 0.006177241926552209), (35, 0.006176370707241714), (3830, 0.006175495184686539), (55, 0.006170620538374132), (4701, 0.006155799496170115), (2444, 0.006150113157139992), (2286, 0.006147427876755584), (838, 0.006138214247214914), (3724, 0.006135496587949934), (1377, 0.006134778825268781), (296, 0.006130650548386935), (1953, 0.006130348751039595), (4072, 0.006126190838857448), (4117, 0.006122254224579838), (3208, 0.006120430520293102), (2784, 0.006114254636093797), (4093, 0.00611254550230886), (3335, 0.006086535273112104), (2035, 0.006078396740119348), (3816, 0.006078003583959338), (1304, 0.006072898985576457), (740, 0.006062346016504056), (4783, 0.006059253117065933), (1321, 0.006047550804793798), (3089, 0.0060413915190446164), (83, 0.00604002985007625), (2622, 0.006035864839035479), (3523, 0.006035034364883867), (2808, 0.006015591599836607), (48, 0.006009977134085904), (1604, 0.006006178910561756), (229, 0.005998660023414555), (1070, 0.005997427877846263), (2093, 0.005994913498862638), (657, 0.005991984824906415), (12, 0.0059889586120799145), (480, 0.005982954078584546), (511, 0.005976611456279791), (4186, 0.005966272729542686), (3572, 0.005961415322740239), (1490, 0.005939435813214497), (3142, 0.00593514230867838), (1990, 0.005935037929919133), (129, 0.005928961393202834), (4389, 0.0059230262750551415), (1880, 0.00591241085490182), (4623, 0.005906255758152283), (1132, 0.005904098374104844), (201, 0.005898688306383337), (160, 0.0058981503837925294), (148, 0.0058926143023315175), (74, 0.005891714715030219), (2146, 0.005891711320911802), (330, 0.005891709527217138), (394, 0.005887887196069695), (2745, 0.0058811065672636515), (4005, 0.005878910632588798), (1514, 0.005876342225192343), (2143, 0.005873112287956696), (3901, 0.005872488734830351), (0, 0.005865483947303131), (4492, 0.0058653175135027534), (981, 0.005864204485791816), (3752, 0.005863966825026311), (956, 0.005860511786576349), (1788, 0.005859757671876088), (900, 0.005856255576596292), (4506, 0.00585309653575334), (61, 0.005848409125045106), (3672, 0.0058438555020243425), (4756, 0.005843047426381727), (3569, 0.005840526965234549), (1741, 0.0058399885056639594), (495, 0.00583575103214389), (508, 0.005827979627801751), (14, 0.0058272636306236055), (664, 0.005821695607636286), (3329, 0.005818148522783661), (1324, 0.005814412604454443), (128, 0.005812581676494872), (3803, 0.005811810536376338), (1790, 0.005811495870767867), (62, 0.005807541568949301), (3766, 0.005797804947651351), (2705, 0.005793599213632879), (1510, 0.005789584437746022), (2490, 0.005784606366222088), (9, 0.005784277290156414), (169, 0.0057827950038253), (260, 0.00578199060014346), (227, 0.0057797247842886), (870, 0.005777315375102012), (1910, 0.0057747700169573195), (597, 0.0057712004127952864), (2990, 0.005762024299245758), (70, 0.005758969456794715), (2893, 0.005758790058411201), (653, 0.005748341828328691), (2964, 0.005743191372453721), (243, 0.005741409402149684), (329, 0.0057405737110926645), (2390, 0.0057330045773012215), (17, 0.005729134177585936), (262, 0.005726213360000517), (2874, 0.005725541578111942), (3554, 0.005723205289525284), (2785, 0.005722322675109557), (933, 0.005715907857272345), (4, 0.005711500400287953), (1783, 0.005710376951622839), (2264, 0.00570585144963005), (361, 0.005705597448783454), (94, 0.005702121477181911), (3707, 0.005698779632827884), (3331, 0.005691754621326733), (2812, 0.005689161303070073), (507, 0.005687450096873686), (4587, 0.00568515308525811), (241, 0.005678917642192708), (2163, 0.005677257468177501), (936, 0.0056767190832856034), (91, 0.005672991035732226), (200, 0.005670572539686009), (50, 0.005670515158598183), (604, 0.005669563547675534), (3058, 0.0056679753222403685), (1063, 0.005666107422212765), (1729, 0.005665083886364248), (1092, 0.005664749477309024), (3167, 0.005664640935219845), (2409, 0.005656289387474211), (2492, 0.005654229390540585), (1737, 0.005649004881758228), (1500, 0.005648965090352635), (115, 0.005645469312552539), (2918, 0.005645101879036039), (2343, 0.005644718805640916), (46, 0.005638264246881072), (744, 0.005636871521968682), (182, 0.005636175243087658), (2995, 0.0056294907785608035), (224, 0.005629404052467401), (4042, 0.005619296282333556), (4312, 0.00561328807598027), (457, 0.005612187121455645), (1851, 0.005608387944710565), (4247, 0.005607695643101538), (208, 0.005606873418979534), (931, 0.005605669665323796), (1939, 0.005604217187678647), (18, 0.005604006332859251), (4155, 0.005598336981426252), (3195, 0.005596514076859476), (138, 0.005593576462269342), (2712, 0.005592388153640876), (2088, 0.005591369493784467), (168, 0.005591037357908077), (486, 0.0055830798447405365), (790, 0.005578012440340985), (4787, 0.005576685010033435), (4282, 0.005572426247451812), (2683, 0.005567684034135696), (36, 0.0055654028928042954), (640, 0.0055633214697022385), (2100, 0.005561773523431931), (2575, 0.005560080031587048), (2686, 0.005558042167607502), (187, 0.005556522356972558), (3423, 0.005546266572902324), (3558, 0.005543576252268311), (2567, 0.005540236155120345), (4185, 0.005539960238563808), (59, 0.005539636268382037), (1902, 0.005529868969203016), (304, 0.005518843090326267), (98, 0.005516177890184142), (121, 0.005513671469043883), (152, 0.005510614821911778), (687, 0.0055104977951976756), (582, 0.005506121836530656), (2997, 0.00550497688163441), (4748, 0.005499781004817259), (4264, 0.005497104022938936), (1023, 0.0054963436781030155), (159, 0.005490629566423111), (1093, 0.0054853635775452755), (4018, 0.005484339475828195), (2142, 0.0054806236820795955), (4012, 0.005470448021818767), (185, 0.005467965050661302), (1825, 0.005460277113111077), (2056, 0.00545496648711612), (4313, 0.005453676587920757), (3671, 0.005452509425482358), (2284, 0.00545250323990858), (833, 0.00545052920635296), (403, 0.005442134714807009), (2155, 0.005436055719516088), (3848, 0.005429337735464221), (788, 0.005428184801397859), (207, 0.0054279304873871646), (1893, 0.005425711817185155), (1854, 0.005419548876847412), (4224, 0.005416716805662361), (126, 0.005411086539726363), (745, 0.0054104271599330536), (13, 0.005407197643648395), (1346, 0.005406852323744595), (206, 0.005402885922014286), (3954, 0.005401801917987963), (2267, 0.005397807263847891), (2781, 0.005396443293552886), (238, 0.005386711229844537), (4053, 0.005386249095127772), (943, 0.005380048299610562), (1794, 0.005378131468874705), (2076, 0.00537707891639922), (2069, 0.005375787121471676), (1485, 0.005375608724999505), (2802, 0.005374406228652949), (3676, 0.00536452557191798), (2372, 0.0053633055603685325), (1926, 0.005359598814675106), (3006, 0.005358391447022161), (3715, 0.005356783550735988), (3030, 0.00535500884074097), (577, 0.0053540681252472145), (531, 0.005350323662221934), (1101, 0.00534661570025889), (2978, 0.00534607707670764), (3656, 0.005343009407342591), (2445, 0.00534162213030093), (4551, 0.005341004158539175), (3746, 0.00534083496969543), (1968, 0.005337392192677523), (2831, 0.0053367569161380255), (223, 0.005328331327697316), (3647, 0.005327528893888209), (451, 0.005324607842790815), (2054, 0.005320735950568748), (3192, 0.0053177159896209926), (3600, 0.005317709121114619), (232, 0.005317566453258608), (4216, 0.005317257490784332), (691, 0.005311412460718106), (937, 0.005303879942116375), (3573, 0.005301292029685637), (52, 0.005298632303574244), (469, 0.005288753030734441), (3958, 0.0052884475259204365), (2579, 0.00528834573992183), (989, 0.005280278255757736), (1352, 0.005277900162133996), (708, 0.005271958007071413), (174, 0.005267044645851252), (728, 0.005264713173037967), (3029, 0.00526087462361827), (1104, 0.005260052738000558), (2003, 0.005250129352777762), (1410, 0.005249543852867969), (836, 0.005248776543857397), (1275, 0.005245756151641969), (4368, 0.005242055659681635), (595, 0.005234167595928871), (3607, 0.005231985864531208), (3081, 0.0052199505190802745), (199, 0.005218937407850434), (1848, 0.00521811073799354), (799, 0.005213946056832408), (2085, 0.0052050785566449004), (483, 0.005204524662088952), (1616, 0.0051968994260100584), (2194, 0.0051965216933425725), (4327, 0.0051954392812976835), (1079, 0.0051924629420184885), (1707, 0.0051881424641676), (1438, 0.005187946482252142), (759, 0.005187320741125897), (1059, 0.005183406030308922), (1290, 0.005183362656976109), (1480, 0.005182448059480493), (1866, 0.005182378326200382), (1044, 0.005181097903658908), (2534, 0.005175915370405819), (2137, 0.0051717734313255145), (3902, 0.005170317196856442), (2125, 0.005168649420366168), (1191, 0.00516627840524623), (315, 0.005165814164079472), (2136, 0.005164267188626063), (1830, 0.005163249219614387), (914, 0.005162867177833235), (624, 0.00516202134226401), (3146, 0.005161462556746425), (3908, 0.005159673850322294), (1697, 0.005153609169549799), (3342, 0.005153477351802239), (2988, 0.0051532400287125244), (1006, 0.005149142615768493), (1056, 0.005143434392084851), (400, 0.005142345377453324), (3305, 0.005135807814806906), (3469, 0.0051278223861288335), (1310, 0.005126915749980731), (3840, 0.005126832443040746), (1453, 0.005126445485492173), (1, 0.005119406486175107), (2555, 0.005112635008065894), (4473, 0.0051104709086419444), (1313, 0.00510851751706276), (1174, 0.005098862748480673), (1270, 0.005093980588564831), (1914, 0.005093043312630301), (1686, 0.005089082592010915), (1428, 0.0050888253374004365), (1379, 0.005087148007405302), (19, 0.005086541599653713), (4316, 0.005084697694631365), (4132, 0.0050844438677332), (3136, 0.00508262323235825), (4650, 0.005082163476907584), (1265, 0.005080817545125514), (3031, 0.005074774836803014), (4315, 0.0050647615362163926), (1911, 0.0050566604053128), (3549, 0.005052380988867463), (746, 0.005046319426415426), (2441, 0.005045148555929311), (2912, 0.005041197035318637), (2023, 0.00503911837873385), (666, 0.005031392057430817), (3907, 0.005026237864844171), (3137, 0.005020103692651454), (4420, 0.0050175319364418455), (4158, 0.00501418023824892), (3652, 0.005013987491725975), (1459, 0.005010244602276328), (618, 0.004999632809241664), (3586, 0.004997578857451896), (3985, 0.004991570670616391), (4052, 0.00498593067275822), (2850, 0.004984674768234313), (4440, 0.004977266875317006), (4166, 0.004975428635326025), (379, 0.004959900725853577), (1634, 0.004952522172379352), (3401, 0.004945641757073226), (2417, 0.004941905406327382), (1722, 0.004941640243490357), (2681, 0.0049385811979932755), (4723, 0.00492175761556138), (4347, 0.004917097241754068), (253, 0.004912627284706003), (2998, 0.004910635939006602), (3998, 0.004899741896265832), (1138, 0.004897057034918977), (3854, 0.004894186068376238), (3082, 0.004893136302846936), (4069, 0.004889833814278514), (2676, 0.0048893518723641645), (2602, 0.004888856448769814), (831, 0.004888647185701396), (2777, 0.004876223384538954), (787, 0.004873778452548131), (2094, 0.0048728268625018644), (3980, 0.004870944550722032), (543, 0.004866891107525123), (1721, 0.004866778063973926), (1936, 0.00486594725529762), (3730, 0.004848932974200032), (4477, 0.004836454350906926), (1766, 0.00482891684399164), (4344, 0.0048265990864890225), (2830, 0.00482534392468842), (1608, 0.004819462245011146), (3910, 0.004816824570734459), (51, 0.004814771532718624), (1838, 0.0048142004248049024), (4215, 0.004814120116283183), (3970, 0.004810341517291385), (233, 0.004810212052377433), (2865, 0.004805184275686941), (3350, 0.0048030117715336), (4343, 0.004800876731956575), (2685, 0.004792709641171127), (1802, 0.004789828691734718), (3595, 0.004787209011996351), (3794, 0.004782717911946427), (2014, 0.004781170999436616), (4428, 0.004747786131661339), (2592, 0.0047472248426872485), (1735, 0.004744008925094383), (3108, 0.004738838604449453), (3001, 0.004737950691736965), (3246, 0.004722395613070269), (4540, 0.004716000789761598), (2096, 0.004709435374286373), (3977, 0.004709194253689599), (2751, 0.004701773162525943), (3653, 0.004692063532173573), (4031, 0.004687445413421593), (3755, 0.004686516508503805), (4137, 0.004679619449130548), (2725, 0.004652893300125477), (3099, 0.004652802076511227), (2149, 0.004651887452585994), (4608, 0.004645740026996854), (4193, 0.004638927929734468), (2421, 0.004637615992147208), (1808, 0.004633827061280019), (1642, 0.004621143635880203), (4507, 0.004621004184689436), (2180, 0.0046165546519828385), (4639, 0.004614681454534339), (230, 0.004605513240736398), (4252, 0.0046010533547025815), (3014, 0.004591945028787636), (3002, 0.004588692986191737), (3413, 0.0045841353594818475), (2629, 0.004580629057647674), (3460, 0.0045684046261014735), (2160, 0.004554068291867842), (3428, 0.00455214598560494), (4249, 0.0045398424160710705), (3017, 0.004533955690214012), (2209, 0.004532390692508176), (3524, 0.004525144878300942), (1605, 0.004512561501253889), (3889, 0.00450885067923911), (340, 0.004506113038171502), (411, 0.00450570066078232), (723, 0.0044930975479973165), (1598, 0.004463773513155068), (603, 0.004447131054608042), (2626, 0.004444660655055113), (4641, 0.004440909481352258), (3657, 0.004437870101435462), (1611, 0.004437102623850327), (4541, 0.004433024509273635), (2283, 0.004432227927713441), (4594, 0.004429156878859137), (3604, 0.004374898819331062), (3018, 0.004372776709469089), (3271, 0.0043657654445900945), (579, 0.004356954693003186), (4336, 0.004352205615590721), (627, 0.0043478216834125115), (2892, 0.004310704719944446), (4248, 0.004241425465806976), (4340, 0.004240385862612505), (3175, 0.004234111177237414), (502, 0.004210343425687097), (1258, 0.004209522011100006), (4574, 0.0042088105146821765), (2357, 0.004195170595048843), (3022, 0.004179153531779969), (3166, 0.004173562650858085), (4176, 0.004159273611491928), (4160, 0.004131886343850906), (4003, 0.00413076470379651), (2011, 0.004124752966219259), (4236, 0.0041157193595199575), (3080, 0.004106298704606642), (3461, 0.00410213155581518), (3793, 0.004094983553400124), (2770, 0.004069966388007835), (1979, 0.004064657197310743), (2634, 0.004043556592874811), (3487, 0.0040287351649431905), (2439, 0.004025835502673559), (323, 0.0040159486235627085), (1295, 0.004011324751198606), (4296, 0.004010551346314869), (3610, 0.004002994846120441), (3377, 0.003997350333192254), (4212, 0.003986960000540396), (3240, 0.003978145660775602), (2882, 0.003972500340746077), (1522, 0.0039646838309859295), (2010, 0.00395660398803197), (3314, 0.003955431325980443), (2869, 0.003942770012737506), (3497, 0.003942440341520359), (2519, 0.003939177961961872), (3393, 0.003925279949150872), (3392, 0.0039232553040008025), (2079, 0.003922503851018831), (4199, 0.003919024272273432), (4612, 0.00390248113561874), (3028, 0.003890699378816426), (3589, 0.003889029718156029), (4086, 0.003888161622145492), (3852, 0.0038877203078096882), (3510, 0.0038852402800813187), (2292, 0.0038723305095298317), (2574, 0.0038717139266061912), (4632, 0.003867412247991101), (3025, 0.0038672706351557573), (2433, 0.0038642773552724254), (4055, 0.003862096294680704), (4618, 0.003857182247695842), (2006, 0.0038568911177856617), (3661, 0.0038519053937791188), (2436, 0.003839851099702526), (4750, 0.003830832242012314), (4784, 0.0038006160980597467), (4342, 0.0037940903602750897), (3493, 0.003790391087932095), (4426, 0.00378878160952072), (3119, 0.0037853076005344155), (1901, 0.0037840274630128253), (3432, 0.003783412073237845), (4410, 0.003783383527165849), (4047, 0.003772224535770901), (4754, 0.0037657010618516707), (3781, 0.0037620104624187015), (2631, 0.0037609564578759327), (4358, 0.003755842638214641), (3544, 0.0037557391579634844), (2494, 0.0037445731280295424), (2005, 0.0037279156141587044), (2246, 0.0037275392389821862), (4057, 0.003727385883123906), (2658, 0.0037259980289025647), (4690, 0.003717744407626678), (4777, 0.003710862903484936), (2963, 0.0037027834205293803), (4548, 0.003693979284162007), (2321, 0.0036933444901907963), (4253, 0.003679482129367568), (4243, 0.003670939393459545), (3491, 0.0036638484904092665), (3710, 0.00365200924111529), (1069, 0.003650389546085556), (3292, 0.003650293907009334), (3921, 0.0036457951371962984), (2367, 0.003645144430200698), (2956, 0.0036420886718027466), (288, 0.0036322286900368666), (1516, 0.0036318863888407465), (3927, 0.003628773118745369), (3632, 0.0036172948353451443), (4614, 0.003616623311848537), (4694, 0.003615450211115268), (3953, 0.003615016942248335), (2779, 0.0036112038371035756), (3798, 0.003604135872417201), (3680, 0.0035949027911940964), (1692, 0.003592390843224245), (4607, 0.003591506832813374), (1899, 0.0035914675402173354), (2599, 0.003588764685020356), (4411, 0.003584919739451759), (4493, 0.0035843051666593533), (1679, 0.0035804192813404766), (3116, 0.0035767128415371977), (2970, 0.0035750185013535595), (4301, 0.00357152316035733), (3911, 0.0035668731229124982), (4169, 0.0035567195535026654), (1208, 0.0035535668228949082), (4775, 0.003553512810165621), (3340, 0.003550815901098733), (4121, 0.0035494072689384506), (1544, 0.0035444212644868806), (4676, 0.0035426452985028393), (4782, 0.003541358604097679), (3453, 0.0035383868168975905), (3967, 0.0035354447464572636), (4112, 0.003533778039681289), (1478, 0.003533299404390527), (4152, 0.003530289118220343), (4774, 0.003529057913904817), (4044, 0.003526186762128197), (2875, 0.003522342968684276), (4280, 0.0035210750890621078), (2714, 0.003516092853900909), (3922, 0.003515489091074235), (4362, 0.003510621018361788), (3185, 0.0034972413634727652), (3039, 0.003496314314504567), (2259, 0.0034945266634117907), (4770, 0.0034888053633165485), (2485, 0.0034867955455343616), (2855, 0.0034834962873985685), (3838, 0.0034802368354060714), (4613, 0.0034776162666882043), (2701, 0.0034722203120179937), (4101, 0.003464259260687728), (4416, 0.0034540030960610933), (3704, 0.0034484395733550494), (1895, 0.0034377469969153595), (2347, 0.003434038984641751), (226, 0.003430303708771054), (3669, 0.0034200011997832197), (2356, 0.0034180828732956105), (2322, 0.00341718903080651), (4627, 0.003416597663437934), (3745, 0.0034159652678966037), (3096, 0.0034154808012925994), (921, 0.003413556829469238), (3950, 0.0034125138674804627), (4762, 0.003411648387074185), (4097, 0.0034108297643066906), (3295, 0.0034108143095376553), (2481, 0.0034097965003920135), (2890, 0.0034070347788133304), (3426, 0.0034048075098816817), (2211, 0.0034044693597043946), (1704, 0.0034033971610899173), (1665, 0.0033940469154493413), (1922, 0.0033925852782319623), (2857, 0.003390299573065218), (3103, 0.003389688505229429), (3366, 0.0033886081227593613), (4115, 0.0033884505003066515), (4027, 0.0033812281019716104), (2369, 0.0033790797921617586), (2973, 0.0033789996261623257), (3990, 0.0033779638080080406), (1691, 0.0033776165903908173), (4768, 0.0033702474258682524), (4091, 0.0033701058804340967), (4462, 0.0033699270352268583), (4285, 0.0033694955823177506), (3186, 0.0033659514868390667), (3805, 0.0033653106637859306), (2423, 0.003364387812867124), (2227, 0.0033637760460258235), (3261, 0.0033635104180619563), (3681, 0.0033624921567885703), (4455, 0.003360739703714107), (4543, 0.0033580370331921846), (3961, 0.0033559554000532218), (2910, 0.0033525807500680346), (3513, 0.0033504693096207848), (4251, 0.0033487692367047237), (3105, 0.00334550781849243), (2081, 0.003343811467216904), (2571, 0.0033435076082843095), (4705, 0.003343085527260474), (3272, 0.0033423961769363277), (4653, 0.0033422530098758912), (4494, 0.0033412844838137203), (4231, 0.0033386510605600732), (2876, 0.0033376331908978904), (3422, 0.0033341854886199136), (2266, 0.0033326597863456413), (4417, 0.0033323479531295764), (4610, 0.0033320742319469876), (1816, 0.0033312949190947233), (4683, 0.0033296500290077437), (1913, 0.0033250455750161987), (2968, 0.003324881901600861), (2713, 0.003323995447425195), (2789, 0.0033238097456591707), (2341, 0.0033218328422406507), (1190, 0.003321069940428977), (78, 0.0033209212529921144), (3547, 0.00331992208397306), (189, 0.003319914792404103), (2192, 0.0033198941497755664), (4177, 0.0033158400872885024), (438, 0.0033151499318040648), (2637, 0.0033141216281273073), (4580, 0.0033136424269413637), (3452, 0.0033096172620807386), (2771, 0.0033079991780311582), (3262, 0.003306630393383209), (4702, 0.003305854350080008), (1935, 0.0033055661644871078), (1129, 0.0033041570089574427), (4198, 0.0032969608501014036), (1353, 0.0032949931027405214), (4751, 0.0032938857923166575), (1886, 0.003293627174670941), (2652, 0.0032917281713188908), (928, 0.0032911262036101467), (637, 0.0032902181724131755), (3533, 0.003290188090415037), (2472, 0.0032893721747163317), (3894, 0.0032863608241640806), (3659, 0.003286274602749457), (4532, 0.0032855307515591253), (2476, 0.003284952069803537), (4019, 0.0032847316506070846), (709, 0.0032833062065706123), (663, 0.003282600392011008), (1623, 0.00328088606880693), (3384, 0.003280352740472026), (4290, 0.0032796397131222526), (3130, 0.003278328178705647), (4461, 0.0032778407985660234), (2287, 0.0032760986937207096), (3598, 0.0032749841305715283), (635, 0.003269838562647999), (3222, 0.0032665214045046625), (3200, 0.003264520319896757), (1965, 0.003264372630417786), (2550, 0.003262291450819056), (80, 0.003261260287032343), (1474, 0.0032606224774804253), (3367, 0.003257535295538146), (4304, 0.0032570968418434232), (4045, 0.0032554599594460834), (1509, 0.003255031035524322), (2859, 0.003253044932621978), (3926, 0.0032515196552079), (3438, 0.0032495021420425882), (4354, 0.0032489012923858558), (3723, 0.003246824450613381), (1387, 0.0032447905309787852), (1162, 0.003244578646412426), (3729, 0.0032438141593402595), (4054, 0.0032423003712439852), (4375, 0.003241881332420633), (4359, 0.0032401636272835523), (1094, 0.003239791301615448), (1776, 0.0032389781264191703), (1732, 0.0032383317662611597), (4445, 0.003235132512369024), (2375, 0.0032351170974548225), (4082, 0.003235112339587339), (1386, 0.0032315104121786067), (4667, 0.003231172834929864), (698, 0.003230325655219977), (2939, 0.0032302134753476185), (3686, 0.0032299149929883664), (526, 0.0032278118959713814), (2176, 0.0032266483893997914), (4334, 0.0032250384327737885), (1601, 0.003224276163001394), (3932, 0.0032239093709984), (1958, 0.003223822706558972), (3614, 0.0032234078289004233), (4369, 0.0032232519067838194), (2302, 0.003221535938127921), (2505, 0.00322121788700218), (4309, 0.003217228063236475), (3308, 0.0032168527412768013), (3394, 0.003216782127029257), (651, 0.0032164792694226486), (3289, 0.003213057739490869), (815, 0.0032106470838992925), (2493, 0.0032095369825859946), (2984, 0.003208967489009988), (2691, 0.0032078934211267505), (3344, 0.0032058174680572146), (4403, 0.003200748897672974), (2479, 0.0031998933061047324), (3796, 0.0031997039291629344), (853, 0.0031973410599681084), (1511, 0.0031966703651016668), (2717, 0.003196562018125088), (3319, 0.0031963076844583648), (4456, 0.0031954911259497384), (2141, 0.003195420661469466), (3732, 0.0031939114203775112), (2916, 0.0031923843165206187), (3282, 0.0031895527845117746), (1235, 0.003185476384244389), (1169, 0.003183521088551469), (3641, 0.0031827987573990286), (824, 0.0031824314996298383), (3069, 0.0031776074666335975), (1629, 0.0031770499057729813), (2942, 0.003176989230021346), (2814, 0.0031769528071670726), (4294, 0.0031757933203255717), (1572, 0.003175403451972864), (3183, 0.003174374206825421), (2856, 0.003171487520627768), (2909, 0.00316887537415677), (4239, 0.0031687333179470823), (4651, 0.0031670137558822424), (521, 0.003166837819933372), (1885, 0.0031648812442042107), (327, 0.0031646684587598845), (3739, 0.0031645951137884427), (2082, 0.0031641837447377204), (776, 0.0031630897169603062), (4655, 0.003159744130776349), (434, 0.0031587200228578565), (1383, 0.0031576238303280633), (4588, 0.0031575906570150184), (4244, 0.0031575208604235267), (3692, 0.003154825612276138), (4470, 0.0031542245374813643), (3468, 0.003151459821844964), (3164, 0.0031496948835257415), (2059, 0.0031495958332576116), (4000, 0.003148441213190253), (3072, 0.0031481250047442986), (3310, 0.0031460842213135477), (3125, 0.003144616346154561), (2663, 0.003144420015944727), (3226, 0.003135714487070465), (4519, 0.003133161528886977), (3743, 0.003132608714997274), (3783, 0.0031297021557621907), (4505, 0.003129700018399704), (4441, 0.003129224730480004), (2289, 0.003128871156689026), (1039, 0.003127537658188717), (3577, 0.003125215042343755), (971, 0.0031249429425481367), (2611, 0.003124686085880369), (4130, 0.0031219974573246535), (3258, 0.0031193461108917006), (1427, 0.0031182808280975504), (4724, 0.0031171336449561855), (1693, 0.0031168380726442247), (4376, 0.0031165141735237556), (4208, 0.0031145401047031436), (3408, 0.0031143809123476657), (3654, 0.0031143715000590054), (3430, 0.0031126106130482745), (4785, 0.0031118769800291103), (3406, 0.0031112969169852385), (3823, 0.003111261857136969), (2416, 0.0031111684882828075), (2077, 0.0031091713981380564), (2301, 0.003107973720093875), (1455, 0.003107870230450977), (1842, 0.0031075569764932097), (4386, 0.0031066670347940427), (905, 0.003106034690803782), (2134, 0.003104768279358893), (1678, 0.0031019278542161587), (3118, 0.0031013594682319113), (4747, 0.003100510441411786), (2215, 0.0031003674561796367), (3181, 0.0031003171078251074), (301, 0.0030998703238473988), (2835, 0.003099175093910584), (3145, 0.0030983088839186593), (2251, 0.0030981947731398077), (3407, 0.003097738669981478), (3638, 0.0030952209663901416), (2373, 0.003095074220305841), (2020, 0.003094693758110339), (4324, 0.0030945546017559465), (4646, 0.003093960052699425), (3269, 0.003092783838754718), (3264, 0.003088888932702495), (1489, 0.003088154817564965), (4406, 0.00308781449894208), (3376, 0.00308763752071292), (3457, 0.0030874987120585217), (3551, 0.0030869859496908494), (3957, 0.0030869833683190343), (4271, 0.0030862352858871196), (1362, 0.003085762532075431), (463, 0.0030854854448259124), (3034, 0.003084036069963681), (3955, 0.003083718018214221), (3498, 0.0030836201935126716), (1015, 0.0030835870561664778), (2772, 0.003081114215448378), (3981, 0.0030808384082268584), (214, 0.003080663403031244), (3996, 0.0030762529947922406), (4525, 0.003075660116695151), (4122, 0.00307546200176779), (1241, 0.003075429744818223), (2503, 0.003075298007544149), (1227, 0.0030732128852234628), (2694, 0.0030710617810274987), (2041, 0.0030709157019765225), (4094, 0.003070703042188801), (2862, 0.0030703030741987595), (2202, 0.003069496427417991), (1603, 0.003068951215137695), (3539, 0.0030665957907065073), (2032, 0.003065154984943023), (2109, 0.003063827799988327), (2908, 0.003063454908723338), (4203, 0.003063236767398659), (2245, 0.00306244360852814), (1150, 0.003062324544857468), (3935, 0.0030605738586905054), (3102, 0.003060154277775408), (4678, 0.0030594172887116605), (3674, 0.003057234653396591), (4345, 0.003057091635136421), (2516, 0.0030559497522497057), (3465, 0.0030549580006962885), (4661, 0.003054944715896176), (3083, 0.00305474992622199), (1599, 0.003054584521121868), (4338, 0.0030525747585564756), (2594, 0.0030521916783748516), (2248, 0.00305161951085626), (3633, 0.00305157700888461), (3368, 0.003051358207230227), (2682, 0.0030506187533923448), (4447, 0.0030474282315112967), (3778, 0.0030466260638114047), (1081, 0.0030449345271049135), (3398, 0.0030416754578796667), (2364, 0.003040884671198676), (1949, 0.0030407397124738423), (2778, 0.003037648899752282), (806, 0.0030369788717484174), (2904, 0.0030345719001793406), (697, 0.0030333880087279838), (357, 0.0030319597519014767), (1487, 0.0030319012200098814), (3435, 0.0030317325518279996), (925, 0.0030304040101557773), (2552, 0.0030302068844464654), (2648, 0.0030285391034263255), (1141, 0.003028507872251174), (3055, 0.003027747019460914), (1061, 0.0030269627070418884), (785, 0.00302671155363971), (2620, 0.0030261342027147137), (1048, 0.0030254779887135784), (2919, 0.003025462726783241), (2233, 0.0030248668572303585), (1612, 0.0030228669599481513), (598, 0.003020317076959577), (1744, 0.0030200184287993933), (2177, 0.0030198641334387385), (326, 0.0030191867676479965), (4511, 0.003019032469630566), (4522, 0.0030183955845146126), (3279, 0.0030169992559588104), (2434, 0.0030167549153304898), (1176, 0.0030162982554894193), (625, 0.00301610343041044), (3387, 0.003015579709494978), (2028, 0.003015240470677249), (3767, 0.0030148791130299247), (2951, 0.003013334547506018), (3161, 0.0030121446197794344), (3201, 0.003012120953900858), (967, 0.0030116345667745965), (871, 0.003010024842373427), (3868, 0.0030089477181805564), (4232, 0.003008749483355718), (1863, 0.0030084859606625087), (3434, 0.0030083150281578624), (192, 0.003007774575293711), (2257, 0.003007101334662752), (4255, 0.0030056434910678336), (4675, 0.0030051537721657927), (4355, 0.0030046659223767406), (3157, 0.003003193974444799), (3362, 0.0030029804839880655), (2000, 0.0030019062253284286), (1814, 0.003000304488037758), (3016, 0.0030000919565863256), (2450, 0.002999916738931132), (4603, 0.0029994516531261345), (3379, 0.002998038137422958), (4384, 0.002997380451606279), (1345, 0.002996742730950452), (287, 0.00299582320106851), (4218, 0.0029957671421040047), (2362, 0.0029927476537181846), (4126, 0.002992613178523323), (868, 0.002992593903349217), (1864, 0.002992479395745937), (3419, 0.0029917901004130076), (4467, 0.0029869396135716046), (1168, 0.00298596339798504), (2350, 0.002983230284259874), (1460, 0.0029819135229589397), (1468, 0.0029817938317212816), (4070, 0.00297918055526822), (1080, 0.0029791018086448087), (1559, 0.0029777338980920155), (1649, 0.002977389089344735), (2719, 0.0029772485586347795), (3061, 0.002975745022184671), (2788, 0.0029754955852590364), (2449, 0.00297340324900288), (2345, 0.0029730118846635453), (3388, 0.0029725713337467674), (1917, 0.0029697227169642446), (2361, 0.002969186934870995), (3651, 0.0029691747334113366), (712, 0.002966481329557497), (2108, 0.002966346316872982), (3436, 0.0029659345372973194), (4246, 0.002965878481659181), (4677, 0.002963975652829027), (2297, 0.002963814822907291), (4700, 0.002963341695498028), (3975, 0.002961423856686734), (2241, 0.0029607363976194754), (1446, 0.0029589525440973205), (3270, 0.0029580659985855564), (3995, 0.0029578144807792684), (3688, 0.0029567533678513144), (524, 0.0029563075103684264), (2504, 0.0029558940426291777), (1113, 0.002955038450775907), (1677, 0.0029537311274124996), (4533, 0.0029528873277147004), (1532, 0.0029518794601834128), (1526, 0.0029506175219880296), (3411, 0.0029497430640765235), (3092, 0.002949552522634947), (1329, 0.002949382985961586), (382, 0.002948093274832427), (2458, 0.002947828208114778), (77, 0.0029445820270709586), (4380, 0.002944309551729058), (1336, 0.0029433290861524443), (2606, 0.0029415606309476177), (1565, 0.0029401463211010106), (4015, 0.002939060904692144), (3005, 0.0029384854308163), (3763, 0.0029376161646403154), (2333, 0.0029371559335389136), (2179, 0.002934907274789269), (2969, 0.0029347076232008034), (4539, 0.0029345992127950524), (2600, 0.0029304405767448757), (3396, 0.0029303739503928673), (2452, 0.002929935507735323), (2716, 0.0029291157250218446), (1276, 0.0029286103852845836), (1246, 0.002927471086877571), (4379, 0.0029268658611625578), (2121, 0.0029257608207668537), (3571, 0.0029232643993729415), (3769, 0.002923140871991825), (812, 0.002923111477805262), (2603, 0.002922840783145769), (3621, 0.002922179037411407), (3642, 0.0029221175425912793), (3472, 0.0029215841180418), (3802, 0.002920395621746987), (978, 0.0029191320546462563), (3813, 0.002918260333236939), (3301, 0.002917950506218274), (2473, 0.0029176162528480477), (3605, 0.002916544244827004), (1763, 0.0029154005433699357), (3528, 0.0029152435758718087), (2595, 0.0029139848624720353), (1547, 0.0029139131157545407), (2734, 0.0029137190761301204), (3217, 0.0029128619980431495), (2087, 0.0029125099769982715), (4659, 0.0029114503996420698), (4631, 0.0029080697175424657), (2901, 0.002907471038764689), (4109, 0.002906844998523625), (889, 0.002906129463219023), (3847, 0.0029028304055912875), (2354, 0.0029020105543443257), (1325, 0.0029014430652734083), (1756, 0.002898964130911188), (2786, 0.0028989436354238183), (1631, 0.0028987135360924003), (3381, 0.002897337997570212), (656, 0.002896718083652069), (1819, 0.002896491769018042), (4346, 0.0028963579882334634), (3738, 0.0028930225743671735), (3066, 0.0028926227029023007), (2838, 0.002892057746427454), (2907, 0.0028906976508345714), (3280, 0.0028903962258020263), (4776, 0.0028903610274176187), (1365, 0.002888186887592755), (4373, 0.0028880214655576317), (4272, 0.0028868122010024216), (2871, 0.0028865205725302373), (3156, 0.0028848215083613856), (3480, 0.002884072105319008), (1582, 0.0028835626050160734), (3946, 0.002882399284138381), (4092, 0.0028822209413878505), (3238, 0.002881273622051782), (1696, 0.002881237286997693), (4635, 0.0028796055442918073), (1710, 0.002879424860365751), (2920, 0.002878779575587453), (3501, 0.002877315573203032), (4790, 0.002876241038202848), (3662, 0.0028735730688334528), (2024, 0.0028728010950145708), (4365, 0.002871213129791276), (2749, 0.0028711592182046183), (3288, 0.0028699680421797984), (3178, 0.0028690690928043308), (1283, 0.002867782528483094), (2271, 0.00286733020689883), (3479, 0.0028673082424197573), (1413, 0.0028669066230350712), (3495, 0.0028661591687811376), (2852, 0.0028655071868080267), (2836, 0.002865294343111128), (583, 0.0028631845105699296), (2027, 0.002863077411824313), (4333, 0.002862967127365595), (2488, 0.0028618163265807556), (1595, 0.002861765559486808), (2917, 0.002861522182754972), (3113, 0.0028610077884122353), (4527, 0.0028609774909959477), (2800, 0.002860855577061457), (4016, 0.002860576772156566), (771, 0.0028602754208614254), (1754, 0.0028588414400262554), (3706, 0.002858534690190087), (3903, 0.002857905932432328), (964, 0.0028567988705920687), (2242, 0.0028556468248037217), (4412, 0.0028553764213088556), (962, 0.0028551584356378986), (3582, 0.002855112603570428), (474, 0.0028546912958995435), (1117, 0.0028533098456589214), (4423, 0.002852924459689478), (2797, 0.0028527724480490327), (4165, 0.002852495719219666), (2419, 0.0028520139969871296), (3191, 0.0028502438273346597), (2499, 0.0028497413205866994), (3047, 0.0028494359269829006), (3339, 0.002848963705260745), (1832, 0.002847887279593561), (3678, 0.0028477304696489327), (4720, 0.0028468153116651147), (264, 0.0028466284133120147), (2368, 0.0028462575290932597), (1889, 0.002843002985628337), (2501, 0.002842379079770165), (3245, 0.0028410121083369774), (2807, 0.002840626439773439), (1903, 0.002840319269617406), (4459, 0.0028395938594114422), (902, 0.0028386707479522294), (3593, 0.002837935292802565), (3041, 0.0028358371474570625), (3057, 0.0028339447239831062), (4119, 0.002833521513981411), (2254, 0.0028332104787521933), (470, 0.0028313804431599012), (2305, 0.0028311446018312574), (4703, 0.0028305403107647693), (4163, 0.0028298836354873117), (1424, 0.0028289901347758172), (862, 0.0028275256871531824), (3206, 0.002826768322324099), (3627, 0.0028266583612766814), (4028, 0.0028265223631701495), (2529, 0.0028251038555864388), (2560, 0.0028238730621885353), (2766, 0.0028221663898330652), (2328, 0.002820455715004548), (3311, 0.002819037169402278), (3410, 0.002818598365305006), (4744, 0.002818189874592124), (2993, 0.0028162288085911247), (1442, 0.002815570685286571), (1566, 0.0028153520790566862), (4523, 0.002814395408918262), (2374, 0.0028135072188113434), (4699, 0.002813256191072125), (3265, 0.0028127705097401737), (3011, 0.002811602924426109), (765, 0.0028114556227003995), (2765, 0.002810940088828492), (3886, 0.0028109313346590917), (2935, 0.002810203245381399), (3365, 0.0028086087709122847), (3027, 0.002808403224055478), (1705, 0.0028077227314091857), (4636, 0.0028043207654810613), (416, 0.0028040035149698612), (4444, 0.002803504412244359), (3075, 0.0028030218467998457), (2491, 0.0028029394613843114), (536, 0.002800816431461542), (4407, 0.002800082802636472), (2947, 0.002799629818754479), (642, 0.0027986748055870083), (4602, 0.002798473596409794), (2377, 0.0027980401861692336), (2630, 0.0027971957164609276), (3892, 0.002797103521689921), (410, 0.00279700997169876), (2615, 0.0027968465997327105), (3254, 0.002796633048326204), (1125, 0.002796627032591553), (2115, 0.002795672238867441), (1687, 0.0027952663696282163), (1004, 0.0027945915666786497), (4443, 0.0027944849890845663), (3564, 0.0027925682684063), (2732, 0.0027924980761159426), (2078, 0.0027901931079369192), (4715, 0.002785318877506285), (3328, 0.0027850634302427424), (3973, 0.0027842968963115357), (1263, 0.002784114275065441), (3822, 0.0027832501666321717), (1944, 0.0027823877134447355), (2656, 0.002781861459304496), (3923, 0.0027784082292371865), (406, 0.0027765406799608356), (1859, 0.0027758597138400403), (3283, 0.00277313877823544), (4582, 0.002772060688261388), (1564, 0.002771939328624394), (3253, 0.00277191689561114), (250, 0.002771619417527959), (1571, 0.0027708186313293967), (1315, 0.0027692377923442197), (2847, 0.0027691304982703107), (2051, 0.0027689816360533257), (3675, 0.0027685802753078643), (4746, 0.002768364833194573), (1638, 0.002767267163105273), (4439, 0.0027672533135427923), (3629, 0.0027665109999755006), (795, 0.0027664568524364483), (3415, 0.0027651607129816924), (3867, 0.002764905391952611), (3611, 0.002764550614024049), (3071, 0.0027640971452067417), (3347, 0.0027639438715777102), (3334, 0.002762603038033999), (2190, 0.002762214208221985), (2844, 0.002760920434519068), (2105, 0.0027598204826512754), (3508, 0.00275981103751591), (3278, 0.002759111042671604), (1940, 0.0027582682562619695), (4017, 0.002757907254032432), (1348, 0.002757871289437992), (1323, 0.0027561862410732927), (2710, 0.002756175542565017), (1812, 0.002755891227086246), (2204, 0.002754635187540289), (1613, 0.002754463159759259), (2881, 0.0027539737879239867), (3338, 0.002753711054558226), (2651, 0.00275228069695026), (3773, 0.0027512940122363136), (3160, 0.002751014409709539), (1843, 0.0027506649867769205), (1982, 0.0027501705434903965), (3076, 0.002749845319464774), (671, 0.0027496131160508032), (317, 0.002749335826199619), (4308, 0.0027493185965875217), (1045, 0.0027493131725554636), (3728, 0.002747528876592393), (2975, 0.002746178902383308), (875, 0.0027456340812041526), (3313, 0.0027453577542279036), (1221, 0.0027442419413814772), (2383, 0.0027441159264179767), (2769, 0.002741830458274033), (772, 0.0027409597287103085), (3585, 0.0027409154010596833), (4722, 0.0027403419692004914), (3864, 0.0027398341998293232), (2498, 0.0027393690895117164), (1545, 0.002738272731397428), (2950, 0.002737819906719149), (3818, 0.0027373130001051415), (3865, 0.002736869904402052), (2243, 0.002736330842274297), (3696, 0.002736176923184795), (3937, 0.002735868212345514), (1957, 0.0027358190177638794), (749, 0.0027358139280093154), (1232, 0.0027357172047708525), (4573, 0.002735594381423605), (4485, 0.002735484555608764), (3608, 0.0027342428624781644), (628, 0.0027341433316650744), (3188, 0.002733014788810382), (2608, 0.0027319599594318603), (1066, 0.002731336881793411), (3341, 0.0027297541671179957), (1223, 0.002728632556237418), (2334, 0.0027284052655629433), (2012, 0.00272285318251891), (860, 0.002721932936020511), (1539, 0.002721194656913649), (3542, 0.002719556152219341), (995, 0.002719361733955215), (1333, 0.0027192636827411683), (1065, 0.002719155775275084), (3532, 0.002718888227893878), (1467, 0.0027187621100391354), (2718, 0.0027169680929252497), (4192, 0.002716447090723617), (4228, 0.0027156810705601516), (2758, 0.0027150350771895622), (2210, 0.002714297006121458), (2455, 0.0027141241768962243), (4789, 0.0027138116808601417), (2126, 0.0027128964947826083), (2671, 0.0027125377648085694), (4064, 0.0027124595829986146), (1098, 0.0027112522843758943), (2009, 0.002710656213445985), (1120, 0.002710606466733285), (4795, 0.002708363470005777), (1172, 0.0027071690941839846), (3872, 0.002706825867697738), (2512, 0.0027067756176120967), (1204, 0.002705664694985962), (4103, 0.0027053492607885246), (1588, 0.0027044128216866976), (2463, 0.002702644449932912), (1591, 0.0027016077524310406), (2974, 0.00270137009851375), (3914, 0.0026986443497744386), (2572, 0.0026986271860058933), (1252, 0.0026985056058706687), (4518, 0.00269836834747089), (2680, 0.002697062687730712), (3719, 0.0026952178987535475), (2173, 0.002693879950212586), (380, 0.0026937592165058254), (2178, 0.0026931816405302146), (3482, 0.0026931210507847546), (3374, 0.00269308886430053), (4696, 0.002691956267693749), (2483, 0.0026901962526554397), (4572, 0.0026896609386639807), (861, 0.0026880335271418825), (3690, 0.0026867563913735575), (3375, 0.002685957802217984), (3698, 0.0026859455299225107), (3223, 0.0026858412659008096), (3708, 0.0026851798153158728), (1994, 0.002685001668790749), (2520, 0.0026836862069984017), (891, 0.0026826291997924835), (1736, 0.002680722088604975), (1492, 0.0026806628300654702), (3068, 0.0026802212413609924), (3590, 0.0026796211843413357), (3712, 0.002679467733607307), (3095, 0.0026792648231371407), (2557, 0.002679221285363684), (1974, 0.0026777570874336365), (4303, 0.002675416915020022), (407, 0.0026743102428704556), (4021, 0.0026740719886364514), (4371, 0.0026735735516942387), (2073, 0.0026733207800780207), (2992, 0.002673123248709725), (752, 0.0026717264227039184), (2960, 0.0026712933686282125), (2152, 0.0026711388869887277), (827, 0.002670624238882758), (1874, 0.0026701230250618675), (1231, 0.002669939338188404), (1112, 0.0026690107827407814), (1867, 0.002668078291019119), (2547, 0.002667828921253476), (494, 0.002667136117956149), (2721, 0.002666815561306632), (3321, 0.002665541324831079), (2335, 0.0026650524291094023), (2025, 0.002664183643071895), (1706, 0.0026638592140087796), (4448, 0.002663661486629476), (3821, 0.0026635571460104277), (2103, 0.002663468967425222), (3898, 0.002661747508506641), (1248, 0.0026613364541509983), (485, 0.0026609408692783287), (2404, 0.002660641983666921), (2459, 0.002660061290518251), (3298, 0.002659423644304326), (2946, 0.0026575470607272597), (3877, 0.002657529816216093), (1405, 0.0026559589796679313), (3801, 0.0026555096368218504), (2843, 0.0026547974625237116), (2962, 0.0026544846572508973), (4637, 0.0026532321887420304), (1668, 0.0026513168172390814), (1307, 0.002650939836716633), (2825, 0.00265020391770615), (617, 0.002650054282060129), (2665, 0.002649304565828552), (3757, 0.002649019345215717), (743, 0.002648125806440885), (3276, 0.0026470402391226963), (4204, 0.0026460838914198364), (1327, 0.0026453703054885604), (2562, 0.0026446445165413624), (3741, 0.002643916716857045), (2175, 0.002643338176326683), (599, 0.0026422544125614647), (4398, 0.0026421631585308142), (1787, 0.0026414354153299095), (3346, 0.0026390915550791438), (4087, 0.0026373974706860553), (552, 0.0026357471570555057), (2053, 0.0026344779027546775), (2208, 0.002632782993472654), (3713, 0.0026299597573690497), (2262, 0.0026297492944012592), (1745, 0.0026291834457296296), (484, 0.002627959927772832), (1746, 0.00262767259812745), (681, 0.002625849125125904), (559, 0.0026237228636839765), (4687, 0.0026234465509078226), (2224, 0.0026222894622913184), (4643, 0.00262146553287305), (2331, 0.0026202294985518074), (4095, 0.0026202067727693697), (3496, 0.002618711429806051), (592, 0.0026185958005126085), (1960, 0.002618540483821182), (482, 0.002617070523444514), (2276, 0.0026170369166159217), (2549, 0.002614821902886565), (4104, 0.002614266827023051), (3241, 0.0026136381203196515), (3170, 0.0026118616997294845), (2906, 0.002610161642655521), (2849, 0.0026080442786714647), (650, 0.002606138251679533), (1264, 0.0026060605159110703), (3870, 0.00260571028980214), (2633, 0.0026056775137444045), (4567, 0.002605397717630085), (4026, 0.0026045676285432447), (4591, 0.0026038884456896522), (1148, 0.002603351695429894), (2236, 0.002603255237256705), (1366, 0.002602711611793988), (1406, 0.002602336963094514), (3562, 0.0025994273008755554), (2563, 0.0025990205224553533), (3918, 0.0025988855248145104), (2796, 0.002598338279912472), (1433, 0.0025982159862727216), (3023, 0.002598000559293767), (1091, 0.0025978394576333863), (2739, 0.00259719498387312), (1855, 0.002595492336917976), (1161, 0.0025931759722554177), (3535, 0.0025923080427294075), (2104, 0.002591999045871325), (878, 0.0025899012449573217), (2399, 0.0025868584684259474), (3100, 0.00258519673892804), (1810, 0.002584621656816463), (2870, 0.0025842347681820084), (2756, 0.0025842144181096875), (1731, 0.0025824471986234435), (1813, 0.002582359364085735), (1497, 0.002575037587001942), (69, 0.002573109882954974), (1527, 0.00257302682799543), (1575, 0.002571407537262365), (2580, 0.002571239313230683), (2062, 0.002570623066191003), (4329, 0.0025689151213140436), (3530, 0.002567756263196628), (4454, 0.002566191141156672), (1870, 0.00256582989882308), (3731, 0.00256580864047924), (1028, 0.002565633489709866), (1408, 0.00256374841825624), (2432, 0.0025626201289294078), (3797, 0.002561553038390193), (452, 0.002559642202972013), (3540, 0.0025595518998593387), (2985, 0.002559347912003782), (4088, 0.0025592876686546676), (3212, 0.0025561959195674684), (1233, 0.0025559889284240906), (1818, 0.0025511210932812854), (1476, 0.002548283101045626), (1793, 0.0025476515608741372), (3466, 0.002544923035962618), (2703, 0.0025443043848504816), (1923, 0.0025442893803548027), (2700, 0.002543235685721999), (2811, 0.0025430829408937847), (2397, 0.002541338095721253), (2106, 0.002541232722444086), (2465, 0.002540994892728224), (3753, 0.0025397862278134496), (1869, 0.0025389119214497217), (839, 0.002538831144913532), (4024, 0.0025381531867919352), (4172, 0.002535747573986613), (4175, 0.0025265901335731764), (4704, 0.0025232190518602654), (3999, 0.0025227636395529266), (2660, 0.002522119161823428), (49, 0.0025207182750463736), (2019, 0.0025204168170865813), (3900, 0.002516046099028475), (4726, 0.0025117740798369153), (3514, 0.0025112274563277577), (4263, 0.002510635481028979), (3989, 0.002509402015102781), (3149, 0.0025084810242842768), (4605, 0.0025080408808051116), (3832, 0.0025073964532885263), (2278, 0.002507330632191951), (4085, 0.0025043576931341213), (3602, 0.0025027800101927455), (2727, 0.002499899156013288), (1570, 0.002498032911612559), (3788, 0.0024977084464203386), (1916, 0.002495928056567863), (1831, 0.002494996109446764), (4332, 0.0024940026391289502), (3748, 0.0024927498199069044), (3879, 0.0024919258555999926), (3277, 0.0024909888534813697), (3552, 0.0024909440492986447), (1477, 0.0024887586759044377), (2787, 0.00248862792915849), (145, 0.0024859468528024586), (585, 0.002484947371574096), (1700, 0.002484684753014617), (2898, 0.0024837351159287904), (2798, 0.0024812092536112993), (3219, 0.0024797926179830603), (2469, 0.002479251299726863), (2133, 0.002479151755574714), (3814, 0.0024787596116082225), (2659, 0.002477916844976521), (3026, 0.0024759213987347295), (2628, 0.00247539563217017), (3673, 0.0024750037225291484), (3414, 0.002473036411086416), (3588, 0.0024729251689000887), (2971, 0.00247139394622443), (3983, 0.002471062845968441), (1215, 0.0024659478829883916), (2887, 0.002460733849530573), (1584, 0.002459662705401186), (4331, 0.002459405548561228), (3070, 0.0024568553220418996), (4062, 0.0024552511731861433), (3570, 0.0024543575997319354), (3703, 0.0024541623875324716), (648, 0.0024528456821787635), (3155, 0.0024482549549274027), (1622, 0.002447237089984914), (2532, 0.00244713603413078), (3307, 0.0024459958919891543), (1878, 0.0024449180527483087), (1888, 0.002442296253714336), (2624, 0.0024386643473448023), (1211, 0.0024365142926826), (3187, 0.0024347891240336633), (3520, 0.0024341216023366333), (909, 0.002432503868368178), (1561, 0.002431843316474503), (4260, 0.0024307656302376326), (4648, 0.0024295692951326474), (4378, 0.002426343930624542), (1761, 0.002423894438757821), (2666, 0.0024224106410961656), (4283, 0.0024208437806939468), (1128, 0.0024202094695400457), (3776, 0.002419437075671096), (2186, 0.0024185974486642847), (2135, 0.0024166253968462372), (2953, 0.0024157229313699516), (2674, 0.00241414167233772), (3747, 0.0024133249900689874), (2131, 0.0024118174517311687), (1948, 0.0024105007920191468), (3844, 0.0024104427847695554), (2936, 0.002404729974717487), (1768, 0.0024021424580236194), (2300, 0.002399072067034403), (3227, 0.0023964287758129164), (3576, 0.002395834667433033), (2164, 0.002394338619961974), (915, 0.0023937574857947354), (4150, 0.0023934618397200937), (1590, 0.002382311459019971), (2148, 0.0023816611352253697), (3084, 0.0023815746608227334), (633, 0.0023815688118452166), (2884, 0.0023808577517449676), (4749, 0.0023798059152780634), (4201, 0.0023730176790120907), (3140, 0.0023722668488381977), (3421, 0.0023702386719204093), (4434, 0.0023700499510970825), (4719, 0.0023677485940000785), (3538, 0.002366890896641133), (4288, 0.0023644950080326226), (2925, 0.0023573540629300044), (3543, 0.0023558641755199432), (2461, 0.0023539186789761093), (3131, 0.0023529922118606934), (3440, 0.00235254763144417), (4510, 0.002347836148433346), (3473, 0.0023457378951872287), (3369, 0.0023410747469594065), (2068, 0.0023405508838192147), (1659, 0.0023297753059313693), (4686, 0.0023261822928807422), (2914, 0.002324609100852978), (2661, 0.0023245504832098227), (3512, 0.002318566092646236), (4394, 0.002309546461394399), (3876, 0.0023089334979747656), (1026, 0.002305998858617095), (2022, 0.002303514595930536), (448, 0.0022995856395896575), (1890, 0.002299178447257898), (3390, 0.00229373806904811), (3429, 0.0022928014418629617), (999, 0.002278095786765712), (4486, 0.0022720221011541196), (2954, 0.0022678507121529487), (2542, 0.0022674526730700486), (4206, 0.002261981829108854), (4182, 0.0022601246095947714), (1226, 0.0022543031518123917), (3645, 0.002242705225882352), (404, 0.002235291374819863), (3205, 0.0022286868894423177), (2407, 0.002226956925021571), (3913, 0.0022232966788288113), (1747, 0.0022216073472896636), (2877, 0.002214931635575109), (1811, 0.002209267082859994), (3691, 0.0021983325982769973), (1967, 0.002198049475288459), (3934, 0.0021943112682572888), (2894, 0.0021776303176566443), (4482, 0.0021743164884935363), (3782, 0.0021696222511714217), (3287, 0.002167144314939053), (1563, 0.0021667772452381925), (4742, 0.0021654698008651907), (4084, 0.002160847969020249), (4512, 0.0021490678879198923), (1316, 0.002129663456075202), (3527, 0.002111266037684366), (2638, 0.0020809418175186567), (561, 0.0020737035239996883), (3974, 0.002059166530849006), (4164, 0.002047229442122684), (710, 0.0020271944256970097), (3315, 0.0020243973316232742), (3906, 0.002022845673609001), (2446, 0.0020170766329802034), (4752, 0.0020045100578343273), (1852, 0.002002458335671504), (4037, 0.0019838661581552926), (1875, 0.001955500040483431), (2213, 0.0019438492821318555), (1462, 0.0019241511938669588), (1557, 0.001891849758611054), (2697, 0.0018890130685723305), (4452, 0.0018865663021144952), (4238, 0.0017715855072251187), (2782, 0.001745008685747895), (409, 0.0017319638235311849), (2456, 0.0016174191339475771), (2524, 0.0012918000192434181), (3596, 0.0010121589012861614), (6, 0.0), (8, 0.0), (15, 0.0), (22, 0.0), (23, 0.0), (32, 0.0), (34, 0.0), (37, 0.0), (40, 0.0), (42, 0.0), (54, 0.0), (57, 0.0), (63, 0.0), (64, 0.0), (66, 0.0), (67, 0.0), (73, 0.0), (86, 0.0), (87, 0.0), (89, 0.0), (92, 0.0), (105, 0.0), (106, 0.0), (109, 0.0), (110, 0.0), (113, 0.0), (114, 0.0), (117, 0.0), (118, 0.0), (120, 0.0), (124, 0.0), (130, 0.0), (132, 0.0), (133, 0.0), (136, 0.0), (137, 0.0), (141, 0.0), (142, 0.0), (143, 0.0), (146, 0.0), (154, 0.0), (155, 0.0), (161, 0.0), (171, 0.0), (173, 0.0), (175, 0.0), (177, 0.0), (178, 0.0), (179, 0.0), (181, 0.0), (184, 0.0), (190, 0.0), (191, 0.0), (194, 0.0), (195, 0.0), (197, 0.0), (202, 0.0), (211, 0.0), (221, 0.0), (231, 0.0), (234, 0.0), (235, 0.0), (251, 0.0), (254, 0.0), (255, 0.0), (258, 0.0), (265, 0.0), (268, 0.0), (269, 0.0), (272, 0.0), (276, 0.0), (289, 0.0), (293, 0.0), (294, 0.0), (302, 0.0), (305, 0.0), (306, 0.0), (309, 0.0), (313, 0.0), (318, 0.0), (321, 0.0), (324, 0.0), (328, 0.0), (331, 0.0), (336, 0.0), (338, 0.0), (341, 0.0), (347, 0.0), (348, 0.0), (352, 0.0), (358, 0.0), (359, 0.0), (368, 0.0), (373, 0.0), (374, 0.0), (375, 0.0), (385, 0.0), (390, 0.0), (393, 0.0), (395, 0.0), (397, 0.0), (399, 0.0), (401, 0.0), (413, 0.0), (417, 0.0), (418, 0.0), (419, 0.0), (420, 0.0), (422, 0.0), (423, 0.0), (426, 0.0), (427, 0.0), (429, 0.0), (430, 0.0), (431, 0.0), (435, 0.0), (436, 0.0), (441, 0.0), (443, 0.0), (445, 0.0), (450, 0.0), (458, 0.0), (459, 0.0), (460, 0.0), (461, 0.0), (464, 0.0), (465, 0.0), (471, 0.0), (473, 0.0), (479, 0.0), (488, 0.0), (489, 0.0), (492, 0.0), (496, 0.0), (498, 0.0), (499, 0.0), (501, 0.0), (504, 0.0), (509, 0.0), (515, 0.0), (516, 0.0), (520, 0.0), (522, 0.0), (532, 0.0), (546, 0.0), (549, 0.0), (550, 0.0), (551, 0.0), (554, 0.0), (555, 0.0), (558, 0.0), (563, 0.0), (565, 0.0), (566, 0.0), (567, 0.0), (569, 0.0), (572, 0.0), (578, 0.0), (584, 0.0), (605, 0.0), (614, 0.0), (616, 0.0), (619, 0.0), (623, 0.0), (630, 0.0), (631, 0.0), (636, 0.0), (638, 0.0), (646, 0.0), (649, 0.0), (661, 0.0), (675, 0.0), (682, 0.0), (686, 0.0), (689, 0.0), (692, 0.0), (699, 0.0), (701, 0.0), (704, 0.0), (705, 0.0), (707, 0.0), (719, 0.0), (722, 0.0), (727, 0.0), (730, 0.0), (742, 0.0), (748, 0.0), (766, 0.0), (769, 0.0), (770, 0.0), (780, 0.0), (781, 0.0), (783, 0.0), (791, 0.0), (792, 0.0), (793, 0.0), (796, 0.0), (797, 0.0), (798, 0.0), (802, 0.0), (803, 0.0), (810, 0.0), (814, 0.0), (816, 0.0), (819, 0.0), (820, 0.0), (829, 0.0), (835, 0.0), (837, 0.0), (841, 0.0), (842, 0.0), (843, 0.0), (846, 0.0), (847, 0.0), (848, 0.0), (869, 0.0), (874, 0.0), (885, 0.0), (886, 0.0), (887, 0.0), (890, 0.0), (896, 0.0), (897, 0.0), (899, 0.0), (901, 0.0), (903, 0.0), (906, 0.0), (907, 0.0), (910, 0.0), (912, 0.0), (913, 0.0), (916, 0.0), (917, 0.0), (923, 0.0), (926, 0.0), (927, 0.0), (934, 0.0), (935, 0.0), (942, 0.0), (947, 0.0), (948, 0.0), (957, 0.0), (966, 0.0), (977, 0.0), (986, 0.0), (997, 0.0), (1011, 0.0), (1014, 0.0), (1016, 0.0), (1017, 0.0), (1019, 0.0), (1029, 0.0), (1031, 0.0), (1032, 0.0), (1037, 0.0), (1040, 0.0), (1042, 0.0), (1053, 0.0), (1055, 0.0), (1060, 0.0), (1062, 0.0), (1068, 0.0), (1071, 0.0), (1074, 0.0), (1078, 0.0), (1085, 0.0), (1088, 0.0), (1108, 0.0), (1115, 0.0), (1122, 0.0), (1123, 0.0), (1126, 0.0), (1130, 0.0), (1134, 0.0), (1142, 0.0), (1147, 0.0), (1157, 0.0), (1159, 0.0), (1160, 0.0), (1163, 0.0), (1166, 0.0), (1167, 0.0), (1171, 0.0), (1179, 0.0), (1180, 0.0), (1185, 0.0), (1186, 0.0), (1189, 0.0), (1198, 0.0), (1207, 0.0), (1212, 0.0), (1214, 0.0), (1217, 0.0), (1219, 0.0), (1222, 0.0), (1224, 0.0), (1228, 0.0), (1229, 0.0), (1237, 0.0), (1238, 0.0), (1242, 0.0), (1244, 0.0), (1257, 0.0), (1259, 0.0), (1260, 0.0), (1261, 0.0), (1262, 0.0), (1268, 0.0), (1274, 0.0), (1277, 0.0), (1287, 0.0), (1293, 0.0), (1299, 0.0), (1301, 0.0), (1306, 0.0), (1312, 0.0), (1318, 0.0), (1322, 0.0), (1326, 0.0), (1331, 0.0), (1335, 0.0), (1344, 0.0), (1354, 0.0), (1355, 0.0), (1356, 0.0), (1371, 0.0), (1375, 0.0), (1376, 0.0), (1378, 0.0), (1384, 0.0), (1385, 0.0), (1388, 0.0), (1389, 0.0), (1391, 0.0), (1392, 0.0), (1393, 0.0), (1396, 0.0), (1400, 0.0), (1402, 0.0), (1403, 0.0), (1407, 0.0), (1414, 0.0), (1415, 0.0), (1416, 0.0), (1420, 0.0), (1423, 0.0), (1426, 0.0), (1430, 0.0), (1435, 0.0), (1436, 0.0), (1441, 0.0), (1451, 0.0), (1471, 0.0), (1475, 0.0), (1481, 0.0), (1493, 0.0), (1494, 0.0), (1496, 0.0), (1498, 0.0), (1499, 0.0), (1501, 0.0), (1519, 0.0), (1520, 0.0), (1524, 0.0), (1534, 0.0), (1536, 0.0), (1541, 0.0), (1548, 0.0), (1549, 0.0), (1552, 0.0), (1554, 0.0), (1555, 0.0), (1560, 0.0), (1562, 0.0), (1567, 0.0), (1569, 0.0), (1574, 0.0), (1576, 0.0), (1578, 0.0), (1579, 0.0), (1580, 0.0), (1587, 0.0), (1593, 0.0), (1594, 0.0), (1602, 0.0), (1606, 0.0), (1609, 0.0), (1614, 0.0), (1620, 0.0), (1621, 0.0), (1630, 0.0), (1643, 0.0), (1646, 0.0), (1648, 0.0), (1655, 0.0), (1656, 0.0), (1658, 0.0), (1676, 0.0), (1680, 0.0), (1682, 0.0), (1683, 0.0), (1685, 0.0), (1689, 0.0), (1690, 0.0), (1698, 0.0), (1708, 0.0), (1709, 0.0), (1714, 0.0), (1716, 0.0), (1717, 0.0), (1718, 0.0), (1723, 0.0), (1726, 0.0), (1730, 0.0), (1755, 0.0), (1762, 0.0), (1764, 0.0), (1778, 0.0), (1779, 0.0), (1780, 0.0), (1789, 0.0), (1797, 0.0), (1801, 0.0), (1804, 0.0), (1806, 0.0), (1821, 0.0), (1833, 0.0), (1835, 0.0), (1839, 0.0), (1846, 0.0), (1849, 0.0), (1856, 0.0), (1857, 0.0), (1861, 0.0), (1862, 0.0), (1865, 0.0), (1871, 0.0), (1876, 0.0), (1879, 0.0), (1882, 0.0), (1883, 0.0), (1887, 0.0), (1898, 0.0), (1900, 0.0), (1904, 0.0), (1934, 0.0), (1942, 0.0), (1947, 0.0), (1950, 0.0), (1959, 0.0), (1961, 0.0), (1963, 0.0), (1966, 0.0), (1970, 0.0), (1976, 0.0), (1977, 0.0), (1980, 0.0), (1983, 0.0), (1984, 0.0), (1987, 0.0), (1988, 0.0), (1989, 0.0), (1996, 0.0), (1999, 0.0), (2015, 0.0), (2018, 0.0), (2021, 0.0), (2033, 0.0), (2039, 0.0), (2044, 0.0), (2045, 0.0), (2064, 0.0), (2065, 0.0), (2067, 0.0), (2070, 0.0), (2083, 0.0), (2090, 0.0), (2092, 0.0), (2095, 0.0), (2097, 0.0), (2098, 0.0), (2099, 0.0), (2101, 0.0), (2112, 0.0), (2113, 0.0), (2114, 0.0), (2116, 0.0), (2119, 0.0), (2127, 0.0), (2132, 0.0), (2139, 0.0), (2144, 0.0), (2153, 0.0), (2158, 0.0), (2162, 0.0), (2171, 0.0), (2182, 0.0), (2185, 0.0), (2189, 0.0), (2191, 0.0), (2197, 0.0), (2199, 0.0), (2206, 0.0), (2214, 0.0), (2217, 0.0), (2226, 0.0), (2230, 0.0), (2247, 0.0), (2249, 0.0), (2252, 0.0), (2256, 0.0), (2258, 0.0), (2263, 0.0), (2270, 0.0), (2272, 0.0), (2279, 0.0), (2281, 0.0), (2290, 0.0), (2294, 0.0), (2298, 0.0), (2303, 0.0), (2311, 0.0), (2312, 0.0), (2315, 0.0), (2319, 0.0), (2325, 0.0), (2330, 0.0), (2337, 0.0), (2339, 0.0), (2351, 0.0), (2355, 0.0), (2363, 0.0), (2370, 0.0), (2376, 0.0), (2379, 0.0), (2387, 0.0), (2392, 0.0), (2396, 0.0), (2406, 0.0), (2408, 0.0), (2411, 0.0), (2414, 0.0), (2415, 0.0), (2420, 0.0), (2422, 0.0), (2426, 0.0), (2427, 0.0), (2430, 0.0), (2431, 0.0), (2437, 0.0), (2443, 0.0), (2451, 0.0), (2454, 0.0), (2462, 0.0), (2464, 0.0), (2477, 0.0), (2482, 0.0), (2489, 0.0), (2496, 0.0), (2497, 0.0), (2500, 0.0), (2509, 0.0), (2511, 0.0), (2513, 0.0), (2526, 0.0), (2527, 0.0), (2528, 0.0), (2530, 0.0), (2535, 0.0), (2544, 0.0), (2551, 0.0), (2554, 0.0), (2556, 0.0), (2559, 0.0), (2566, 0.0), (2570, 0.0), (2576, 0.0), (2581, 0.0), (2589, 0.0), (2590, 0.0), (2591, 0.0), (2598, 0.0), (2601, 0.0), (2604, 0.0), (2612, 0.0), (2617, 0.0), (2618, 0.0), (2619, 0.0), (2621, 0.0), (2653, 0.0), (2664, 0.0), (2668, 0.0), (2669, 0.0), (2672, 0.0), (2673, 0.0), (2679, 0.0), (2684, 0.0), (2687, 0.0), (2689, 0.0), (2695, 0.0), (2696, 0.0), (2698, 0.0), (2699, 0.0), (2715, 0.0), (2729, 0.0), (2737, 0.0), (2738, 0.0), (2741, 0.0), (2744, 0.0), (2746, 0.0), (2755, 0.0), (2759, 0.0), (2761, 0.0), (2763, 0.0), (2768, 0.0), (2791, 0.0), (2805, 0.0), (2810, 0.0), (2813, 0.0), (2816, 0.0), (2823, 0.0), (2826, 0.0), (2833, 0.0), (2834, 0.0), (2837, 0.0), (2846, 0.0), (2848, 0.0), (2851, 0.0), (2854, 0.0), (2861, 0.0), (2873, 0.0), (2889, 0.0), (2895, 0.0), (2900, 0.0), (2902, 0.0), (2911, 0.0), (2922, 0.0), (2923, 0.0), (2928, 0.0), (2929, 0.0), (2930, 0.0), (2937, 0.0), (2938, 0.0), (2940, 0.0), (2944, 0.0), (2945, 0.0), (2949, 0.0), (2955, 0.0), (2987, 0.0), (2989, 0.0), (2991, 0.0), (2994, 0.0), (2999, 0.0), (3004, 0.0), (3010, 0.0), (3013, 0.0), (3024, 0.0), (3036, 0.0), (3037, 0.0), (3038, 0.0), (3044, 0.0), (3046, 0.0), (3049, 0.0), (3053, 0.0), (3054, 0.0), (3056, 0.0), (3063, 0.0), (3064, 0.0), (3065, 0.0), (3067, 0.0), (3079, 0.0), (3094, 0.0), (3097, 0.0), (3107, 0.0), (3115, 0.0), (3121, 0.0), (3129, 0.0), (3132, 0.0), (3135, 0.0), (3139, 0.0), (3141, 0.0), (3150, 0.0), (3159, 0.0), (3163, 0.0), (3168, 0.0), (3171, 0.0), (3174, 0.0), (3179, 0.0), (3182, 0.0), (3189, 0.0), (3190, 0.0), (3193, 0.0), (3198, 0.0), (3202, 0.0), (3203, 0.0), (3210, 0.0), (3213, 0.0), (3214, 0.0), (3215, 0.0), (3216, 0.0), (3218, 0.0), (3228, 0.0), (3230, 0.0), (3233, 0.0), (3235, 0.0), (3237, 0.0), (3243, 0.0), (3247, 0.0), (3248, 0.0), (3249, 0.0), (3256, 0.0), (3263, 0.0), (3266, 0.0), (3268, 0.0), (3281, 0.0), (3296, 0.0), (3300, 0.0), (3312, 0.0), (3317, 0.0), (3320, 0.0), (3324, 0.0), (3327, 0.0), (3345, 0.0), (3353, 0.0), (3354, 0.0), (3356, 0.0), (3360, 0.0), (3364, 0.0), (3371, 0.0), (3383, 0.0), (3386, 0.0), (3395, 0.0), (3402, 0.0), (3403, 0.0), (3404, 0.0), (3418, 0.0), (3442, 0.0), (3443, 0.0), (3444, 0.0), (3451, 0.0), (3456, 0.0), (3458, 0.0), (3459, 0.0), (3462, 0.0), (3464, 0.0), (3471, 0.0), (3478, 0.0), (3481, 0.0), (3483, 0.0), (3484, 0.0), (3502, 0.0), (3503, 0.0), (3511, 0.0), (3519, 0.0), (3525, 0.0), (3531, 0.0), (3534, 0.0), (3536, 0.0), (3546, 0.0), (3555, 0.0), (3557, 0.0), (3559, 0.0), (3560, 0.0), (3563, 0.0), (3565, 0.0), (3574, 0.0), (3575, 0.0), (3578, 0.0), (3580, 0.0), (3597, 0.0), (3601, 0.0), (3609, 0.0), (3612, 0.0), (3613, 0.0), (3619, 0.0), (3620, 0.0), (3622, 0.0), (3626, 0.0), (3630, 0.0), (3646, 0.0), (3648, 0.0), (3660, 0.0), (3663, 0.0), (3664, 0.0), (3670, 0.0), (3677, 0.0), (3683, 0.0), (3684, 0.0), (3687, 0.0), (3697, 0.0), (3702, 0.0), (3720, 0.0), (3721, 0.0), (3735, 0.0), (3736, 0.0), (3737, 0.0), (3742, 0.0), (3744, 0.0), (3754, 0.0), (3762, 0.0), (3768, 0.0), (3770, 0.0), (3771, 0.0), (3775, 0.0), (3777, 0.0), (3787, 0.0), (3791, 0.0), (3800, 0.0), (3806, 0.0), (3808, 0.0), (3809, 0.0), (3815, 0.0), (3820, 0.0), (3827, 0.0), (3829, 0.0), (3837, 0.0), (3841, 0.0), (3843, 0.0), (3845, 0.0), (3855, 0.0), (3860, 0.0), (3861, 0.0), (3871, 0.0), (3874, 0.0), (3878, 0.0), (3883, 0.0), (3885, 0.0), (3888, 0.0), (3891, 0.0), (3897, 0.0), (3899, 0.0), (3904, 0.0), (3909, 0.0), (3915, 0.0), (3916, 0.0), (3917, 0.0), (3919, 0.0), (3924, 0.0), (3925, 0.0), (3928, 0.0), (3929, 0.0), (3933, 0.0), (3939, 0.0), (3947, 0.0), (3951, 0.0), (3959, 0.0), (3960, 0.0), (3963, 0.0), (3964, 0.0), (3971, 0.0), (3979, 0.0), (3984, 0.0), (3987, 0.0), (3991, 0.0), (3992, 0.0), (3994, 0.0), (3997, 0.0), (4001, 0.0), (4002, 0.0), (4006, 0.0), (4007, 0.0), (4008, 0.0), (4009, 0.0), (4011, 0.0), (4014, 0.0), (4020, 0.0), (4025, 0.0), (4029, 0.0), (4030, 0.0), (4035, 0.0), (4036, 0.0), (4043, 0.0), (4046, 0.0), (4050, 0.0), (4059, 0.0), (4060, 0.0), (4066, 0.0), (4068, 0.0), (4073, 0.0), (4075, 0.0), (4080, 0.0), (4096, 0.0), (4102, 0.0), (4105, 0.0), (4108, 0.0), (4110, 0.0), (4113, 0.0), (4116, 0.0), (4118, 0.0), (4120, 0.0), (4123, 0.0), (4125, 0.0), (4128, 0.0), (4131, 0.0), (4134, 0.0), (4138, 0.0), (4140, 0.0), (4141, 0.0), (4148, 0.0), (4149, 0.0), (4151, 0.0), (4153, 0.0), (4179, 0.0), (4180, 0.0), (4181, 0.0), (4183, 0.0), (4188, 0.0), (4191, 0.0), (4200, 0.0), (4202, 0.0), (4210, 0.0), (4213, 0.0), (4214, 0.0), (4219, 0.0), (4229, 0.0), (4234, 0.0), (4235, 0.0), (4237, 0.0), (4240, 0.0), (4241, 0.0), (4242, 0.0), (4245, 0.0), (4254, 0.0), (4259, 0.0), (4262, 0.0), (4274, 0.0), (4276, 0.0), (4278, 0.0), (4284, 0.0), (4293, 0.0), (4298, 0.0), (4302, 0.0), (4305, 0.0), (4306, 0.0), (4307, 0.0), (4311, 0.0), (4314, 0.0), (4317, 0.0), (4319, 0.0), (4321, 0.0), (4322, 0.0), (4323, 0.0), (4328, 0.0), (4335, 0.0), (4341, 0.0), (4350, 0.0), (4352, 0.0), (4361, 0.0), (4363, 0.0), (4366, 0.0), (4374, 0.0), (4381, 0.0), (4382, 0.0), (4383, 0.0), (4385, 0.0), (4387, 0.0), (4390, 0.0), (4396, 0.0), (4400, 0.0), (4405, 0.0), (4413, 0.0), (4414, 0.0), (4418, 0.0), (4419, 0.0), (4430, 0.0), (4431, 0.0), (4433, 0.0), (4435, 0.0), (4442, 0.0), (4446, 0.0), (4458, 0.0), (4463, 0.0), (4464, 0.0), (4466, 0.0), (4469, 0.0), (4471, 0.0), (4478, 0.0), (4479, 0.0), (4480, 0.0), (4481, 0.0), (4489, 0.0), (4490, 0.0), (4491, 0.0), (4495, 0.0), (4496, 0.0), (4497, 0.0), (4498, 0.0), (4503, 0.0), (4504, 0.0), (4508, 0.0), (4513, 0.0), (4515, 0.0), (4516, 0.0), (4517, 0.0), (4520, 0.0), (4521, 0.0), (4524, 0.0), (4530, 0.0), (4534, 0.0), (4536, 0.0), (4537, 0.0), (4544, 0.0), (4545, 0.0), (4550, 0.0), (4552, 0.0), (4553, 0.0), (4558, 0.0), (4560, 0.0), (4561, 0.0), (4562, 0.0), (4566, 0.0), (4568, 0.0), (4569, 0.0), (4570, 0.0), (4571, 0.0), (4575, 0.0), (4577, 0.0), (4578, 0.0), (4579, 0.0), (4581, 0.0), (4583, 0.0), (4584, 0.0), (4585, 0.0), (4586, 0.0), (4593, 0.0), (4595, 0.0), (4596, 0.0), (4597, 0.0), (4600, 0.0), (4601, 0.0), (4604, 0.0), (4606, 0.0), (4609, 0.0), (4611, 0.0), (4616, 0.0), (4617, 0.0), (4622, 0.0), (4625, 0.0), (4628, 0.0), (4633, 0.0), (4640, 0.0), (4644, 0.0), (4645, 0.0), (4657, 0.0), (4662, 0.0), (4663, 0.0), (4665, 0.0), (4666, 0.0), (4668, 0.0), (4669, 0.0), (4671, 0.0), (4672, 0.0), (4673, 0.0), (4674, 0.0), (4679, 0.0), (4682, 0.0), (4685, 0.0), (4689, 0.0), (4697, 0.0), (4698, 0.0), (4709, 0.0), (4710, 0.0), (4711, 0.0), (4712, 0.0), (4713, 0.0), (4714, 0.0), (4716, 0.0), (4718, 0.0), (4721, 0.0), (4728, 0.0), (4729, 0.0), (4731, 0.0), (4736, 0.0), (4737, 0.0), (4741, 0.0), (4743, 0.0), (4745, 0.0), (4755, 0.0), (4757, 0.0), (4759, 0.0), (4761, 0.0), (4763, 0.0), (4765, 0.0), (4766, 0.0), (4771, 0.0), (4773, 0.0), (4779, 0.0), (4781, 0.0), (4786, 0.0), (4791, 0.0), (4799, 0.0), (4801, 0.0), (4802, 0.0)]\n"
     ]
    }
   ],
   "source": [
    "sorted_similar_movies=sorted(similarity_score,key=lambda x:x[1],reverse=True)\n",
    "print(sorted_similar_movies)"
   ]
  },
  {
   "cell_type": "code",
   "execution_count": 43,
   "id": "8596274e-4fcd-4ee0-8f37-5acfc0c2bb46",
   "metadata": {},
   "outputs": [
    {
     "name": "stdout",
     "output_type": "stream",
     "text": [
      "Movies suggested for you : \n",
      "\n",
      "1 . Hitman\n",
      "2 . Mr. & Mrs. Smith\n",
      "3 . Quantum of Solace\n",
      "4 . Mission: Impossible II\n",
      "5 . The Warrior's Way\n",
      "6 . The November Man\n",
      "7 . The International\n",
      "8 . The Bourne Identity\n",
      "9 . The Jackal\n",
      "10 . Centurion\n",
      "11 . I Am Number Four\n",
      "12 . G.I. Joe: Retaliation\n",
      "13 . Oblivion\n",
      "14 . Wanted\n",
      "15 . Live Free or Die Hard\n",
      "16 . Child 44\n",
      "17 . The Divide\n",
      "18 . Bridge of Spies\n",
      "19 . The Celebration\n",
      "20 . Anna Karenina\n",
      "21 . The Bourne Ultimatum\n",
      "22 . K-19: The Widowmaker\n",
      "23 . Licence to Kill\n",
      "24 . Lucky Number Slevin\n",
      "25 . Eagle Eye\n",
      "26 . Charlie's Angels: Full Throttle\n",
      "27 . Killers\n",
      "28 . Conspiracy Theory\n",
      "29 . Dreamcatcher\n"
     ]
    }
   ],
   "source": [
    "# Print the name of similar movies based on the index – Top 30 \n",
    "\n",
    "print('Movies suggested for you : \\n')\n",
    "i = 1\n",
    "for movie in sorted_similar_movies:\n",
    "  index = movie[0]\n",
    "  title_from_index = movies_data[movies_data.index==index]['title'].values[0]\n",
    "  if (i<30):\n",
    "    print(i, '.',title_from_index)\n",
    "    i+=1\n"
   ]
  },
  {
   "cell_type": "code",
   "execution_count": 45,
   "id": "ac783183-973c-4daa-b445-971271604a4e",
   "metadata": {},
   "outputs": [
    {
     "name": "stdin",
     "output_type": "stream",
     "text": [
      " Enter your favourite movie name :  avatar\n"
     ]
    },
    {
     "name": "stdout",
     "output_type": "stream",
     "text": [
      "Movies suggested for you : \n",
      "\n",
      "1 . Avatar\n",
      "2 . Alien\n",
      "3 . Aliens\n",
      "4 . Guardians of the Galaxy\n",
      "5 . Star Trek Beyond\n",
      "6 . Star Trek Into Darkness\n",
      "7 . Galaxy Quest\n",
      "8 . Alien³\n",
      "9 . Cargo\n",
      "10 . Trekkies\n",
      "11 . Gravity\n",
      "12 . Moonraker\n",
      "13 . Jason X\n",
      "14 . Pocahontas\n",
      "15 . Space Cowboys\n",
      "16 . The Helix... Loaded\n",
      "17 . Lockout\n",
      "18 . Event Horizon\n",
      "19 . Space Dogs\n",
      "20 . Machete Kills\n",
      "21 . Gettysburg\n",
      "22 . Clash of the Titans\n",
      "23 . Star Wars: Clone Wars: Volume 1\n",
      "24 . The Right Stuff\n",
      "25 . Terminator Salvation\n",
      "26 . The Astronaut's Wife\n",
      "27 . Planet of the Apes\n",
      "28 . Star Trek\n",
      "29 . Wing Commander\n"
     ]
    }
   ],
   "source": [
    "# Consolidated code \n",
    "movie_name = input(' Enter your favourite movie name : ')\n",
    "\n",
    "list_of_all_titles = movies_data['title'].tolist()\n",
    "\n",
    "find_close_match = difflib.get_close_matches(movie_name, list_of_all_titles)\n",
    "\n",
    "close_match = find_close_match[0]\n",
    "\n",
    "index_of_the_movie = movies_data[movies_data.title == close_match]['index'].values[0]\n",
    "\n",
    "similarity_score = list(enumerate(similarity[index_of_the_movie]))\n",
    "\n",
    "sorted_similar_movies = sorted(similarity_score, key = lambda x:x[1], reverse = True) \n",
    "\n",
    "print('Movies suggested for you : \\n')\n",
    "\n",
    "i = 1\n",
    "\n",
    "for movie in sorted_similar_movies:\n",
    "  index = movie[0]\n",
    "  title_from_index = movies_data[movies_data.index==index]['title'].values[0]\n",
    "  if (i<30):\n",
    "    print(i, '.',title_from_index)\n",
    "    i+=1\n"
   ]
  },
  {
   "cell_type": "code",
   "execution_count": null,
   "id": "4c69f0e6-08ae-4ac2-a8b3-53214c8e7bd0",
   "metadata": {},
   "outputs": [],
   "source": []
  },
  {
   "cell_type": "code",
   "execution_count": null,
   "id": "780b6da4-f61c-4a7e-b921-0058a129e2d4",
   "metadata": {},
   "outputs": [],
   "source": []
  },
  {
   "cell_type": "code",
   "execution_count": null,
   "id": "c52332ac-9851-4edc-9bf6-c57aac0220d1",
   "metadata": {},
   "outputs": [],
   "source": []
  },
  {
   "cell_type": "code",
   "execution_count": null,
   "id": "5079faea-9206-45bb-b03c-266cc89840df",
   "metadata": {},
   "outputs": [],
   "source": []
  }
 ],
 "metadata": {
  "kernelspec": {
   "display_name": "Python 3 (ipykernel)",
   "language": "python",
   "name": "python3"
  },
  "language_info": {
   "codemirror_mode": {
    "name": "ipython",
    "version": 3
   },
   "file_extension": ".py",
   "mimetype": "text/x-python",
   "name": "python",
   "nbconvert_exporter": "python",
   "pygments_lexer": "ipython3",
   "version": "3.12.4"
  }
 },
 "nbformat": 4,
 "nbformat_minor": 5
}
